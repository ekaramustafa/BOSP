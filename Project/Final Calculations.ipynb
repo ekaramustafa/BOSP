{
 "cells": [
  {
   "cell_type": "code",
   "execution_count": 61,
   "id": "c422a6b8",
   "metadata": {},
   "outputs": [
    {
     "name": "stdout",
     "output_type": "stream",
     "text": [
      "Great! Data is loaded\n"
     ]
    }
   ],
   "source": [
    "import os\n",
    "import csv\n",
    "import numpy as np\n",
    "from matplotlib import pyplot as plt\n",
    "\n",
    "fold_path = \"OHIE_Data_CSV\"\n",
    "datafile = open('Data.csv', newline='')\n",
    "dataDict = csv.DictReader(datafile, delimiter=\",\")\n",
    "print(\"Great! Data is loaded\")"
   ]
  },
  {
   "cell_type": "code",
   "execution_count": 62,
   "id": "134df4d7",
   "metadata": {
    "scrolled": false
   },
   "outputs": [
    {
     "data": {
      "text/plain": [
       "['person_id',\n",
       " 'approved_app',\n",
       " 'female_list',\n",
       " 'age_inp',\n",
       " 'health_last12_inp',\n",
       " 'health_change_inp',\n",
       " 'dia_dx_pre_lottery_inp',\n",
       " 'dia_dx_post_lottery_inp',\n",
       " 'hbp_dx_pre_lottery_inp',\n",
       " 'hbp_dx_post_lottery_inp',\n",
       " 'chl_dx_pre_lottery_inp',\n",
       " 'chl_dx_post_lottery_inp',\n",
       " 'needmet_med_inp',\n",
       " 'needmet_ment_inp',\n",
       " 'needmet_rx_inp',\n",
       " 'med_qual_inp',\n",
       " 'chl_chk_inp',\n",
       " 'fobt_chk_inp',\n",
       " 'cvd_risk_point_inp',\n",
       " 'doc_num_incl_probe_inp',\n",
       " 'ed_any_incl_probe_inp',\n",
       " 'hosp_num_incl_probe_inp',\n",
       " 'ins_any_inp',\n",
       " 'ins_ohp_inp',\n",
       " 'ins_private_inp',\n",
       " 'a1c_inp',\n",
       " 'chl_inp',\n",
       " 'bmi_inp',\n",
       " 'bp_sar_inp',\n",
       " 'bp_dar_inp',\n",
       " 'rx_any_mod_inp',\n",
       " 'rx_num_mod_inp',\n",
       " 'hbp_diure_med_inp',\n",
       " 'antihyperlip_med_inp',\n",
       " 'diabetes_med_inp',\n",
       " 'meds_miss_inp',\n",
       " 'num_visit_pre_cens_ed',\n",
       " 'num_visit_cens_ed',\n",
       " 'num_hiun_pre_cens_ed',\n",
       " 'num_hiun_cens_ed',\n",
       " 'num_loun_pre_cens_ed',\n",
       " 'num_loun_cens_ed']"
      ]
     },
     "execution_count": 62,
     "metadata": {},
     "output_type": "execute_result"
    }
   ],
   "source": [
    "dataDict.fieldnames"
   ]
  },
  {
   "cell_type": "code",
   "execution_count": 63,
   "id": "b20d09ff",
   "metadata": {},
   "outputs": [],
   "source": [
    "records = [ row for row in dataDict]"
   ]
  },
  {
   "cell_type": "code",
   "execution_count": 64,
   "id": "c1a94fea",
   "metadata": {},
   "outputs": [],
   "source": [
    "for i in range(len(records)):\n",
    "    x = records[i]\n",
    "    if x[\"approved_app\"] != \"\":\n",
    "        x[\"approved_app\"] = int(x[\"approved_app\"])"
   ]
  },
  {
   "cell_type": "code",
   "execution_count": 94,
   "id": "3109448e",
   "metadata": {},
   "outputs": [],
   "source": [
    "for i in range(len(records)):\n",
    "    x = records[i]\n",
    "    if x[\"female_list\"] != \"\":\n",
    "        x[\"female_list\"] = int(x[\"female_list\"])"
   ]
  },
  {
   "cell_type": "code",
   "execution_count": 65,
   "id": "5b03581b",
   "metadata": {},
   "outputs": [
    {
     "name": "stdout",
     "output_type": "stream",
     "text": [
      "There are 8044 people in control group\n",
      "There are 1706 people in treatment group\n"
     ]
    }
   ],
   "source": [
    "control = []\n",
    "treat = []\n",
    "\n",
    "for i in range(len(records)):\n",
    "    x = records[i]\n",
    "    \n",
    "    if x[\"approved_app\"] == 1:\n",
    "        treat.append(x)\n",
    "    else:\n",
    "        control.append(x)\n",
    "print(f\"There are {len(control)} people in control group\")\n",
    "print(f\"There are {len(treat)} people in treatment group\")"
   ]
  },
  {
   "cell_type": "code",
   "execution_count": 66,
   "id": "99aaa42f",
   "metadata": {},
   "outputs": [
    {
     "name": "stdout",
     "output_type": "stream",
     "text": [
      "The mean of needmet_med_inp for control 0.6004728132387707\n",
      "The mean of needmet_med_inp for treat 0.6625586854460094\n",
      "The variance of needmet_med_inp for control 0.22357467378606535\n",
      "The variance of needmet_med_inp for treat 0.22357467378606535\n",
      "The difference 0.06208587220723871\n",
      "The difference in percentages : 10.339%\n",
      "Either 0 or 1 || Yes or No question\n"
     ]
    }
   ],
   "source": [
    "#needmet_med_inp = Got all needed medical care - Subjective\n",
    "control_needmet_med_inp = [int(x[\"needmet_med_inp\"]) for x in control if x[\"needmet_med_inp\"] != \"\" ]\n",
    "treat_needmet_med_inp = [int(x[\"needmet_med_inp\"]) for x in treat if x[\"needmet_med_inp\"] != \"\" ]\n",
    "mean_control = np.mean(control_needmet_med_inp)\n",
    "mean_treat = np.mean(treat_needmet_med_inp)\n",
    "diff = mean_treat - mean_control\n",
    "print(f\"The mean of needmet_med_inp for control {np.mean(control_needmet_med_inp)}\")\n",
    "print(f\"The mean of needmet_med_inp for treat {np.mean(treat_needmet_med_inp)}\")\n",
    "print(f\"The variance of needmet_med_inp for control {np.var(treat_needmet_med_inp)}\")\n",
    "print(f\"The variance of needmet_med_inp for treat {np.var(treat_needmet_med_inp)}\")\n",
    "print(f\"The difference {diff}\")\n",
    "print(f\"The difference in percentages : {round(((diff/mean_control)*100),3)}%\")\n",
    "print(\"Either 0 or 1 || Yes or No question\")"
   ]
  },
  {
   "cell_type": "code",
   "execution_count": 68,
   "id": "283eb422",
   "metadata": {},
   "outputs": [
    {
     "name": "stdout",
     "output_type": "stream",
     "text": [
      "The mean of needmet_rx_inp for control 0.7289021657953697\n",
      "The mean of needmet_rx_inp for treat 0.7749120750293084\n",
      "The variance of needmet_rx_inp for control 0.19760379849418908\n",
      "The variance of needmet_rx_inp for treat 0.17442335100307996\n",
      "The difference 0.04600990923393866\n",
      "The difference in percentages : 6.312%\n",
      "Either 0 or 1 || Yes or No question\n"
     ]
    }
   ],
   "source": [
    "#needmet_rx_inp = Got all needed prescription medications - Subjective\n",
    "control_needmet_rx_inp = [int(x[\"needmet_rx_inp\"]) for x in control if x[\"needmet_rx_inp\"] != \"\" ]\n",
    "treat_needmet_rx_inp = [int(x[\"needmet_rx_inp\"]) for x in treat if x[\"needmet_rx_inp\"] != \"\" ]\n",
    "mean_control = np.mean(control_needmet_rx_inp)\n",
    "mean_treat = np.mean(treat_needmet_rx_inp)\n",
    "diff = mean_treat - mean_control\n",
    "print(f\"The mean of needmet_rx_inp for control {np.mean(control_needmet_rx_inp)}\")\n",
    "print(f\"The mean of needmet_rx_inp for treat {np.mean(treat_needmet_rx_inp)}\")\n",
    "print(f\"The variance of needmet_rx_inp for control {np.var(control_needmet_rx_inp)}\")\n",
    "print(f\"The variance of needmet_rx_inp for treat {np.var(treat_needmet_rx_inp)}\")\n",
    "print(f\"The difference {diff}\")\n",
    "print(f\"The difference in percentages : {round(((diff/mean_control)*100),3)}%\")\n",
    "print(\"Either 0 or 1 || Yes or No question\")"
   ]
  },
  {
   "cell_type": "code",
   "execution_count": 73,
   "id": "4329a93e",
   "metadata": {},
   "outputs": [
    {
     "name": "stdout",
     "output_type": "stream",
     "text": [
      "The mean of med_qual_inp for control 2.622743229689067\n",
      "The mean of med_qual_inp for treat 3.0754716981132075\n",
      "The variance of med_qual_inp for control 3.202587058442127\n",
      "The variance of med_qual_inp for treat 2.7502002491990027\n",
      "The difference 0.4527284684241404\n",
      "The difference in percentages : 17.262%\n"
     ]
    }
   ],
   "source": [
    "#med_qual_inp = Quality of medical care\n",
    "control_med_qual_inp = [int(x[\"med_qual_inp\"].split(\":\")[0]) for x in control if x[\"med_qual_inp\"] != \"\" ]\n",
    "treat_med_qual_inp = [int(x[\"med_qual_inp\"].split(\":\")[0]) for x in treat if x[\"med_qual_inp\"] != \"\" ]\n",
    "mean_control = np.mean(control_med_qual_inp)\n",
    "mean_treat = np.mean(treat_med_qual_inp)\n",
    "diff = mean_treat - mean_control\n",
    "print(f\"The mean of med_qual_inp for control {mean_control}\")\n",
    "print(f\"The mean of med_qual_inp for treat {mean_treat}\")\n",
    "print(f\"The variance of med_qual_inp for control {np.var(control_med_qual_inp)}\")\n",
    "print(f\"The variance of med_qual_inp for treat {np.var(treat_med_qual_inp)}\")\n",
    "print(f\"The difference {diff}\")\n",
    "print(f\"The difference in percentages : {round(((diff/mean_control)*100),3)}%\")"
   ]
  },
  {
   "cell_type": "code",
   "execution_count": 75,
   "id": "a044bfc6",
   "metadata": {},
   "outputs": [
    {
     "name": "stdout",
     "output_type": "stream",
     "text": [
      "The mean of control_doc_num_incl_probe_inp for control 6.341220423412204\n",
      "The mean of treat_doc_num_incl_probe_inp for treat 8.037580739870815\n",
      "The variance of doc_num_incl_probe_inp for control 383.3398575392092\n",
      "The variance of doc_num_incl_probe_inp for treat 391.90111264395085\n",
      "The difference 1.6963603164586116\n",
      "The difference in percentages : 26.751%\n"
     ]
    }
   ],
   "source": [
    "#doc_num_incl_probe_inp = Number of doctor visits in the past 12 months\n",
    "control_doc_num_incl_probe_inp = [int(x[\"doc_num_incl_probe_inp\"]) for x in control if x[\"doc_num_incl_probe_inp\"] != \"\"]\n",
    "treat_doc_num_incl_probe_inp = [int(x[\"doc_num_incl_probe_inp\"]) for x in treat if x[\"doc_num_incl_probe_inp\"] != \"\"]\n",
    "mean_control = np.mean(control_doc_num_incl_probe_inp)\n",
    "mean_treat = np.mean(treat_doc_num_incl_probe_inp)\n",
    "diff = mean_treat - mean_control\n",
    "print(f\"The mean of control_doc_num_incl_probe_inp for control {np.mean(control_doc_num_incl_probe_inp)}\")\n",
    "print(f\"The mean of treat_doc_num_incl_probe_inp for treat {np.mean(treat_doc_num_incl_probe_inp)}\")\n",
    "print(f\"The variance of doc_num_incl_probe_inp for control {np.var(control_doc_num_incl_probe_inp)}\")\n",
    "print(f\"The variance of doc_num_incl_probe_inp for treat {np.var(treat_doc_num_incl_probe_inp)}\")\n",
    "print(f\"The difference {diff}\")\n",
    "print(f\"The difference in percentages : {round(((diff/mean_control)*100),3)}%\")"
   ]
  },
  {
   "cell_type": "code",
   "execution_count": 81,
   "id": "dc5aa4b3",
   "metadata": {},
   "outputs": [
    {
     "name": "stdout",
     "output_type": "stream",
     "text": [
      "The mean of hosp_num_incl_probe_inp for control 0.24097135740971357\n",
      "The mean of hosp_num_incl_probe_inp for treat 0.3458602466236054\n",
      "The variance of hosp_num_incl_probe_inp for control 2.919641397685206\n",
      "The variance of hosp_num_incl_probe_inp for treat 6.861590319870048\n",
      "The difference 0.10488888921389186\n",
      "The difference in percentages : 43.528%\n"
     ]
    }
   ],
   "source": [
    "#hosp_num_incl_probe_inp = Number of hospitalizations in the past 12 months, stay in a hospital at least overnight\n",
    "control_hosp_num_incl_probe_inp = [int(x[\"hosp_num_incl_probe_inp\"]) for x in control if x[\"hosp_num_incl_probe_inp\"] != \"\"]\n",
    "treat_hosp_num_incl_probe_inp= [int(x[\"hosp_num_incl_probe_inp\"]) for x in treat if x[\"hosp_num_incl_probe_inp\"] != \"\"]\n",
    "mean_control = np.mean(control_hosp_num_incl_probe_inp)\n",
    "mean_treat = np.mean(treat_hosp_num_incl_probe_inp)\n",
    "diff = mean_treat - mean_control\n",
    "print(f\"The mean of hosp_num_incl_probe_inp for control {np.mean(control_hosp_num_incl_probe_inp)}\")\n",
    "print(f\"The mean of hosp_num_incl_probe_inp for treat {np.mean(treat_hosp_num_incl_probe_inp)}\")\n",
    "print(f\"The variance of hosp_num_incl_probe_inp for control {np.var(control_hosp_num_incl_probe_inp)}\")\n",
    "print(f\"The variance of hosp_num_incl_probe_inp for treat {np.var(treat_hosp_num_incl_probe_inp)}\")\n",
    "print(f\"The difference {diff}\")\n",
    "print(f\"The difference in percentages : {round(((diff/mean_control)*100),3)}%\")"
   ]
  },
  {
   "cell_type": "code",
   "execution_count": 83,
   "id": "b1bff808",
   "metadata": {},
   "outputs": [
    {
     "name": "stdout",
     "output_type": "stream",
     "text": [
      "The mean of bmi_inp for control 29.809566872202883\n",
      "The mean of bmi_inp for treat 29.722528763188745\n",
      "The variance of bmi_inp for control 56.70414347114121\n",
      "The variance of bmi_inp for treat 60.433644328366405\n",
      "The difference -0.08703810901413789\n",
      "The difference in percentages : -0.292%\n"
     ]
    }
   ],
   "source": [
    "#bmi_inp = bmi\n",
    "control_bmi_inp = [float(x[\"bmi_inp\"]) for x in control if x[\"bmi_inp\"] != \"\"]\n",
    "treat_bmi_inp = [float(x[\"bmi_inp\"]) for x in treat if x[\"bmi_inp\"] != \"\"]\n",
    "mean_control = np.mean(control_bmi_inp)\n",
    "mean_treat = np.mean(treat_bmi_inp)\n",
    "diff = mean_treat - mean_control\n",
    "print(f\"The mean of bmi_inp for control {np.mean(control_bmi_inp)}\")\n",
    "print(f\"The mean of bmi_inp for treat {np.mean(treat_bmi_inp)}\")\n",
    "print(f\"The variance of bmi_inp for control {np.var(control_bmi_inp)}\")\n",
    "print(f\"The variance of bmi_inp for treat {np.var(treat_bmi_inp)}\")\n",
    "print(f\"The difference {diff}\")\n",
    "print(f\"The difference in percentages : {round(((diff/mean_control)*100),3)}%\")"
   ]
  },
  {
   "cell_type": "code",
   "execution_count": 87,
   "id": "f2504732",
   "metadata": {},
   "outputs": [
    {
     "name": "stdout",
     "output_type": "stream",
     "text": [
      "The mean of a1c_inp for control 5.333521494281452\n",
      "The mean of a1c_inp for treat 5.319554044548651\n",
      "The variance of a1c_inp for control 0.40078122074510675\n",
      "The variance of a1c_inp for treat 0.32507957065480225\n",
      "The difference -0.08703810901413789\n",
      "The difference in percentages : -0.292%\n"
     ]
    }
   ],
   "source": [
    "#a1c_inp = a1c_inp\n",
    "control_a1c_inp = [float(x[\"a1c_inp\"]) for x in control if x[\"a1c_inp\"] != \"\"]\n",
    "treat_a1c_inp = [float(x[\"a1c_inp\"]) for x in treat if x[\"a1c_inp\"] != \"\"]\n",
    "mean_control = np.mean(control_bmi_inp)\n",
    "mean_treat = np.mean(treat_bmi_inp)\n",
    "diff = mean_treat - mean_control\n",
    "print(f\"The mean of a1c_inp for control {np.mean(control_a1c_inp)}\")\n",
    "print(f\"The mean of a1c_inp for treat {np.mean(treat_a1c_inp)}\")\n",
    "print(f\"The variance of a1c_inp for control {np.var(control_a1c_inp)}\")\n",
    "print(f\"The variance of a1c_inp for treat {np.var(treat_a1c_inp)}\")\n",
    "print(f\"The difference {diff}\")\n",
    "print(f\"The difference in percentages : {round(((diff/mean_control)*100),3)}%\")"
   ]
  },
  {
   "cell_type": "code",
   "execution_count": 88,
   "id": "602d9fc3",
   "metadata": {},
   "outputs": [
    {
     "name": "stdout",
     "output_type": "stream",
     "text": [
      "The mean of chl_inp for control 205.55774129786175\n",
      "The mean of chl_inp for treat 205.2952075029308\n",
      "The variance of chl_inp for control 1158.9667621122128\n",
      "The variance of chl_inp for treat 1121.4405714610457\n",
      "The difference -0.08703810901413789\n",
      "The difference in percentages : -0.292%\n"
     ]
    }
   ],
   "source": [
    "#chl_inp = chl_inp\n",
    "control_chl_inp= [float(x[\"chl_inp\"]) for x in control if x[\"chl_inp\"] != \"\"]\n",
    "treat_chl_inp = [float(x[\"chl_inp\"]) for x in treat if x[\"chl_inp\"] != \"\"]\n",
    "mean_control = np.mean(control_bmi_inp)\n",
    "mean_treat = np.mean(treat_bmi_inp)\n",
    "diff = mean_treat - mean_control\n",
    "print(f\"The mean of chl_inp for control {np.mean(control_chl_inp)}\")\n",
    "print(f\"The mean of chl_inp for treat {np.mean(treat_chl_inp)}\")\n",
    "print(f\"The variance of chl_inp for control {np.var(control_chl_inp)}\")\n",
    "print(f\"The variance of chl_inp for treat {np.var(treat_chl_inp)}\")\n",
    "print(f\"The difference {diff}\")\n",
    "print(f\"The difference in percentages : {round(((diff/mean_control)*100),3)}%\")"
   ]
  },
  {
   "cell_type": "code",
   "execution_count": 90,
   "id": "ebd1501e",
   "metadata": {},
   "outputs": [
    {
     "name": "stdout",
     "output_type": "stream",
     "text": [
      "The mean of bp_sar_inp for control 119.17553455992044\n",
      "The mean of bp_sar_inp for treat 119.66881594372802\n",
      "The variance of bp_sar_inp for control 278.601957384559\n",
      "The variance of bp_sar_inp for treat 275.9682772615512\n",
      "The difference 0.49328138380758446\n",
      "The difference in percentages : 0.414%\n"
     ]
    }
   ],
   "source": [
    "#bp_sar_inp = bp_sar_inp\n",
    "control_bp_sar_inp = [float(x[\"bp_sar_inp\"]) for x in control if x[\"bp_sar_inp\"] != \"\"]\n",
    "treat_bp_sar_inp = [float(x[\"bp_sar_inp\"]) for x in treat if x[\"bp_sar_inp\"] != \"\"]\n",
    "mean_control = np.mean(control_bp_sar_inp)\n",
    "mean_treat = np.mean(treat_bp_sar_inp)\n",
    "diff = mean_treat - mean_control\n",
    "print(f\"The mean of bp_sar_inp for control {np.mean(control_bp_sar_inp)}\")\n",
    "print(f\"The mean of bp_sar_inp for treat {np.mean(treat_bp_sar_inp)}\")\n",
    "print(f\"The variance of bp_sar_inp for control {np.var(control_bp_sar_inp)}\")\n",
    "print(f\"The variance of bp_sar_inp for treat {np.var(treat_bp_sar_inp)}\")\n",
    "print(f\"The difference {diff}\")\n",
    "print(f\"The difference in percentages : {round(((diff/mean_control)*100),3)}%\")"
   ]
  },
  {
   "cell_type": "code",
   "execution_count": 91,
   "id": "29b2f7de",
   "metadata": {},
   "outputs": [
    {
     "name": "stdout",
     "output_type": "stream",
     "text": [
      "The mean of bp_dar_inp for control 75.76516658378915\n",
      "The mean of bp_dar_inp for treat 76.23622508792496\n",
      "The variance of bp_dar_inp for control 144.94448031784907\n",
      "The variance of bp_dar_inp for treat 144.3398600759474\n",
      "The difference 0.4710585041358115\n",
      "The difference in percentages : 0.622%\n"
     ]
    }
   ],
   "source": [
    "#bp_dar_inp = bp_dar_inp\n",
    "control_bp_dar_inp = [float(x[\"bp_dar_inp\"]) for x in control if x[\"bp_dar_inp\"] != \"\"]\n",
    "treat_bp_dar_inp = [float(x[\"bp_dar_inp\"]) for x in treat if x[\"bp_dar_inp\"] != \"\"]\n",
    "mean_control = np.mean(control_bp_dar_inp)\n",
    "mean_treat = np.mean(treat_bp_dar_inp)\n",
    "diff = mean_treat - mean_control\n",
    "print(f\"The mean of bp_dar_inp for control {np.mean(control_bp_dar_inp)}\")\n",
    "print(f\"The mean of bp_dar_inp for treat {np.mean(treat_bp_dar_inp)}\")\n",
    "print(f\"The variance of bp_dar_inp for control {np.var(control_bp_dar_inp)}\")\n",
    "print(f\"The variance of bp_dar_inp for treat {np.var(treat_bp_dar_inp)}\")\n",
    "print(f\"The difference {diff}\")\n",
    "print(f\"The difference in percentages : {round(((diff/mean_control)*100),3)}%\")"
   ]
  },
  {
   "cell_type": "code",
   "execution_count": 95,
   "id": "4aef9da0",
   "metadata": {},
   "outputs": [
    {
     "name": "stdout",
     "output_type": "stream",
     "text": [
      "The mean of bmi_inp for control 30.423158078982595\n",
      "The mean of bmi_inp for treat 30.432109503171247\n",
      "The variance of bmi_inp for control 66.20531327981061\n",
      "The variance of bmi_inp for treat 72.57021019031401\n",
      "The difference 0.008951424188651913\n",
      "The difference in percentages : 0.029%\n"
     ]
    }
   ],
   "source": [
    "#female_bmi_inp = bmi\n",
    "control_female_bmi_inp = [float(x[\"bmi_inp\"]) for x in control if x[\"bmi_inp\"] != \"\" and x[\"female_list\"] == 1]\n",
    "treat_female_bmi_inp = [float(x[\"bmi_inp\"]) for x in treat if x[\"bmi_inp\"] != \"\" and x[\"female_list\"] == 1]\n",
    "mean_control = np.mean(control_female_bmi_inp)\n",
    "mean_treat = np.mean(treat_female_bmi_inp)\n",
    "diff = mean_treat - mean_control\n",
    "print(f\"The mean of bmi_inp for control {np.mean(control_female_bmi_inp)}\")\n",
    "print(f\"The mean of bmi_inp for treat {np.mean(treat_female_bmi_inp)}\")\n",
    "print(f\"The variance of bmi_inp for control {np.var(control_female_bmi_inp)}\")\n",
    "print(f\"The variance of bmi_inp for treat {np.var(treat_female_bmi_inp)}\")\n",
    "print(f\"The difference {diff}\")\n",
    "print(f\"The difference in percentages : {round(((diff/mean_control)*100),3)}%\")"
   ]
  },
  {
   "cell_type": "code",
   "execution_count": 96,
   "id": "6b3eab84",
   "metadata": {},
   "outputs": [
    {
     "name": "stdout",
     "output_type": "stream",
     "text": [
      "The mean of bmi_inp for control 29.037496184727683\n",
      "The mean of bmi_inp for treat 28.839287473684212\n",
      "The variance of bmi_inp for control 43.67916488165027\n",
      "The variance of bmi_inp for treat 43.919967480087834\n",
      "The difference -0.1982087110434705\n",
      "The difference in percentages : -0.683%\n"
     ]
    }
   ],
   "source": [
    "#male_bmi_inp = bmi\n",
    "control_male_bmi_inp = [float(x[\"bmi_inp\"]) for x in control if x[\"bmi_inp\"] != \"\" and x[\"female_list\"] == 0]\n",
    "treat_male_bmi_inp = [float(x[\"bmi_inp\"]) for x in treat if x[\"bmi_inp\"] != \"\" and x[\"female_list\"] == 0 ]\n",
    "mean_control = np.mean(control_male_bmi_inp)\n",
    "mean_treat = np.mean(treat_male_bmi_inp)\n",
    "diff = mean_treat - mean_control\n",
    "print(f\"The mean of bmi_inp for control {np.mean(control_male_bmi_inp)}\")\n",
    "print(f\"The mean of bmi_inp for treat {np.mean(treat_male_bmi_inp)}\")\n",
    "print(f\"The variance of bmi_inp for control {np.var(control_male_bmi_inp)}\")\n",
    "print(f\"The variance of bmi_inp for treat {np.var(treat_male_bmi_inp)}\")\n",
    "print(f\"The difference {diff}\")\n",
    "print(f\"The difference in percentages : {round(((diff/mean_control)*100),3)}%\")"
   ]
  },
  {
   "cell_type": "code",
   "execution_count": null,
   "id": "75c2687e",
   "metadata": {},
   "outputs": [],
   "source": []
  }
 ],
 "metadata": {
  "kernelspec": {
   "display_name": "Python 3 (ipykernel)",
   "language": "python",
   "name": "python3"
  },
  "language_info": {
   "codemirror_mode": {
    "name": "ipython",
    "version": 3
   },
   "file_extension": ".py",
   "mimetype": "text/x-python",
   "name": "python",
   "nbconvert_exporter": "python",
   "pygments_lexer": "ipython3",
   "version": "3.8.0"
  }
 },
 "nbformat": 4,
 "nbformat_minor": 5
}
