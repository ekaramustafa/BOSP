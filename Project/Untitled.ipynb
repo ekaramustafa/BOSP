{
 "cells": [
  {
   "cell_type": "code",
   "execution_count": 12,
   "id": "14ae344f",
   "metadata": {},
   "outputs": [
    {
     "name": "stdout",
     "output_type": "stream",
     "text": [
      "Great! Data is loaded\n"
     ]
    }
   ],
   "source": [
    "import os\n",
    "import csv\n",
    "import numpy as np\n",
    "from matplotlib import pyplot as plt\n",
    "\n",
    "fold_path = \"OHIE_Data_CSV\"\n",
    "datafile = open(os.path.join(fold_path,'oregonhie_inperson_vars.csv'), newline='')\n",
    "dataDict = csv.DictReader(datafile, delimiter=\",\")\n",
    "print(\"Great! Data is loaded\")"
   ]
  },
  {
   "cell_type": "code",
   "execution_count": 13,
   "id": "93c52a02",
   "metadata": {},
   "outputs": [
    {
     "data": {
      "text/plain": [
       "['person_id',\n",
       " 'in_data_inp',\n",
       " 'sample_resp_inp',\n",
       " 'weight_total_inp',\n",
       " 'dt_release_inp',\n",
       " 'dt_completed_inp',\n",
       " 'interview_location_inp',\n",
       " 'interviewer_inp',\n",
       " 'scale_id_inp',\n",
       " 'stadio_id_inp',\n",
       " 'omron_id_inp',\n",
       " 'language_inp',\n",
       " 'interpreter_inp',\n",
       " 'gender_inp',\n",
       " 'age_inp',\n",
       " 'health_last12_inp',\n",
       " 'health_change_inp',\n",
       " 'sf4_inp',\n",
       " 'ast_dx_pre_lottery_inp',\n",
       " 'dia_dx_pre_lottery_inp',\n",
       " 'hbp_dx_pre_lottery_inp',\n",
       " 'chl_dx_pre_lottery_inp',\n",
       " 'ami_dx_pre_lottery_inp',\n",
       " 'chf_dx_pre_lottery_inp',\n",
       " 'emp_dx_pre_lottery_inp',\n",
       " 'kid_dx_pre_lottery_inp',\n",
       " 'cancer_dx_pre_lottery_inp',\n",
       " 'dep_dx_pre_lottery_inp',\n",
       " 'dia_dx_post_lottery_inp',\n",
       " 'hbp_dx_post_lottery_inp',\n",
       " 'chl_dx_post_lottery_inp',\n",
       " 'dep_dx_post_lottery_inp',\n",
       " 'happiness_inp',\n",
       " 'phqtot_inp',\n",
       " 'pcs8_score_inp',\n",
       " 'mcs8_score_inp',\n",
       " 'usual_clinic_inp',\n",
       " 'needmet_med_inp',\n",
       " 'needmet_ment_inp',\n",
       " 'needmet_rx_inp',\n",
       " 'med_qual_inp',\n",
       " 'chl_chk_inp',\n",
       " 'pap_chk_inp',\n",
       " 'mam_chk_inp',\n",
       " 'fobt_chk_inp',\n",
       " 'col_chk_inp',\n",
       " 'psa_chk_inp',\n",
       " 'did_flu_inp',\n",
       " 'smk_curr_inp',\n",
       " 'cvd_risk_point_inp',\n",
       " 'doc_num_incl_probe_inp',\n",
       " 'doc_any_incl_probe_inp',\n",
       " 'ed_num_incl_probe_inp',\n",
       " 'ed_any_incl_probe_inp',\n",
       " 'surg_num_incl_probe_inp',\n",
       " 'surg_any_incl_probe_inp',\n",
       " 'hosp_num_incl_probe_inp',\n",
       " 'hosp_any_incl_probe_inp',\n",
       " 'tot_med_spend_other_inp',\n",
       " 'any_oop_spending_inp',\n",
       " 'catastrophic_exp_inp',\n",
       " 'ins_any_inp',\n",
       " 'ins_ohp_inp',\n",
       " 'ins_private_inp',\n",
       " 'owe_inp',\n",
       " 'borrow_inp',\n",
       " 'edu_inp',\n",
       " 'hispanic_inp',\n",
       " 'race_white_inp',\n",
       " 'race_black_inp',\n",
       " 'race_nwother_inp',\n",
       " 'a1c_inp',\n",
       " 'hdl_inp',\n",
       " 'chl_inp',\n",
       " 'bmi_inp',\n",
       " 'bp_sar_inp',\n",
       " 'bp_dar_inp',\n",
       " 'has_bp_inp',\n",
       " 'has_waist_inp',\n",
       " 'has_hght_wght_inp',\n",
       " 'has_dbs_inp',\n",
       " 'has_all_dbs_inp',\n",
       " 'rx_any_mod_inp',\n",
       " 'rx_num_mod_inp',\n",
       " 'hbp_diure_med_inp',\n",
       " 'antihyperlip_med_inp',\n",
       " 'diabetes_med_inp',\n",
       " 'antidep_med_inp',\n",
       " 'meds_miss_inp']"
      ]
     },
     "execution_count": 13,
     "metadata": {},
     "output_type": "execute_result"
    }
   ],
   "source": [
    "dataDict.fieldnames"
   ]
  },
  {
   "cell_type": "code",
   "execution_count": null,
   "id": "fbdc3a68",
   "metadata": {},
   "outputs": [],
   "source": []
  }
 ],
 "metadata": {
  "kernelspec": {
   "display_name": "Python 3 (ipykernel)",
   "language": "python",
   "name": "python3"
  },
  "language_info": {
   "codemirror_mode": {
    "name": "ipython",
    "version": 3
   },
   "file_extension": ".py",
   "mimetype": "text/x-python",
   "name": "python",
   "nbconvert_exporter": "python",
   "pygments_lexer": "ipython3",
   "version": "3.8.0"
  }
 },
 "nbformat": 4,
 "nbformat_minor": 5
}
