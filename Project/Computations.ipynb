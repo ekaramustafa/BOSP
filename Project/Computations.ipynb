{
 "cells": [
  {
   "cell_type": "code",
   "execution_count": 10,
   "id": "14ae344f",
   "metadata": {},
   "outputs": [
    {
     "name": "stdout",
     "output_type": "stream",
     "text": [
      "Great! Data is loaded\n"
     ]
    }
   ],
   "source": [
    "import os\n",
    "import csv\n",
    "import numpy as np\n",
    "from matplotlib import pyplot as plt\n",
    "\n",
    "fold_path = \"OHIE_Data_CSV\"\n",
    "datafile = open('Data.csv', newline='')\n",
    "dataDict = csv.DictReader(datafile, delimiter=\",\")\n",
    "print(\"Great! Data is loaded\")"
   ]
  },
  {
   "cell_type": "code",
   "execution_count": 2,
   "id": "93c52a02",
   "metadata": {
    "scrolled": false
   },
   "outputs": [
    {
     "data": {
      "text/plain": [
       "['person_id',\n",
       " 'approved_app',\n",
       " 'female_list',\n",
       " 'age_inp',\n",
       " 'health_last12_inp',\n",
       " 'health_change_inp',\n",
       " 'dia_dx_pre_lottery_inp',\n",
       " 'dia_dx_post_lottery_inp',\n",
       " 'hbp_dx_pre_lottery_inp',\n",
       " 'hbp_dx_post_lottery_inp',\n",
       " 'chl_dx_pre_lottery_inp',\n",
       " 'chl_dx_post_lottery_inp',\n",
       " 'needmet_med_inp',\n",
       " 'needmet_ment_inp',\n",
       " 'needmet_rx_inp',\n",
       " 'med_qual_inp',\n",
       " 'chl_chk_inp',\n",
       " 'fobt_chk_inp',\n",
       " 'cvd_risk_point_inp',\n",
       " 'doc_num_incl_probe_inp',\n",
       " 'ed_any_incl_probe_inp',\n",
       " 'hosp_num_incl_probe_inp',\n",
       " 'ins_any_inp',\n",
       " 'ins_ohp_inp',\n",
       " 'ins_private_inp',\n",
       " 'a1c_inp',\n",
       " 'chl_inp',\n",
       " 'bmi_inp',\n",
       " 'bp_sar_inp',\n",
       " 'bp_dar_inp',\n",
       " 'rx_any_mod_inp',\n",
       " 'rx_num_mod_inp',\n",
       " 'hbp_diure_med_inp',\n",
       " 'antihyperlip_med_inp',\n",
       " 'diabetes_med_inp',\n",
       " 'meds_miss_inp',\n",
       " 'num_visit_pre_cens_ed',\n",
       " 'num_visit_cens_ed',\n",
       " 'num_hiun_pre_cens_ed',\n",
       " 'num_hiun_cens_ed',\n",
       " 'num_loun_pre_cens_ed',\n",
       " 'num_loun_cens_ed']"
      ]
     },
     "execution_count": 2,
     "metadata": {},
     "output_type": "execute_result"
    }
   ],
   "source": [
    "dataDict.fieldnames"
   ]
  },
  {
   "cell_type": "code",
   "execution_count": 5,
   "id": "fbdc3a68",
   "metadata": {},
   "outputs": [],
   "source": [
    "records = [ row for row in dataDict]"
   ]
  },
  {
   "cell_type": "code",
   "execution_count": 6,
   "id": "98444c7b",
   "metadata": {},
   "outputs": [],
   "source": [
    "for i in range(len(records)):\n",
    "    x = records[i]\n",
    "    if x[\"approved_app\"] != \"\":\n",
    "        x[\"approved_app\"] = int(x[\"approved_app\"])"
   ]
  },
  {
   "cell_type": "markdown",
   "id": "3aa98466",
   "metadata": {},
   "source": [
    "# Quality"
   ]
  },
  {
   "cell_type": "code",
   "execution_count": 7,
   "id": "21c2bde2",
   "metadata": {},
   "outputs": [
    {
     "name": "stdout",
     "output_type": "stream",
     "text": [
      "There are 8044 people in control group\n",
      "There are 1706 people in treatment group\n"
     ]
    }
   ],
   "source": [
    "control = []\n",
    "treat = []\n",
    "\n",
    "for i in range(len(records)):\n",
    "    x = records[i]\n",
    "    \n",
    "    if x[\"approved_app\"] == 1:\n",
    "        treat.append(x)\n",
    "    else:\n",
    "        control.append(x)\n",
    "print(f\"There are {len(control)} people in control group\")\n",
    "print(f\"There are {len(treat)} people in treatment group\")"
   ]
  },
  {
   "cell_type": "code",
   "execution_count": 8,
   "id": "aa675c9e",
   "metadata": {
    "scrolled": true
   },
   "outputs": [
    {
     "name": "stdout",
     "output_type": "stream",
     "text": [
      "The mean of needmet_med_inp for control 0.6004728132387707\n",
      "The mean of needmet_med_inp for treat 0.6625586854460094\n",
      "The difference 0.06208587220723871\n",
      "The difference in percentages : 10.339%\n",
      "Either 0 or 1 || Yes or No question\n"
     ]
    }
   ],
   "source": [
    "#needmet_med_inp = Got all needed medical care - Subjective\n",
    "control_needmet_med_inp = [int(x[\"needmet_med_inp\"]) for x in control if x[\"needmet_med_inp\"] != \"\" ]\n",
    "treat_needmet_med_inp = [int(x[\"needmet_med_inp\"]) for x in treat if x[\"needmet_med_inp\"] != \"\" ]\n",
    "mean_control = np.mean(control_needmet_med_inp)\n",
    "mean_treat = np.mean(treat_needmet_med_inp)\n",
    "diff = mean_treat - mean_control\n",
    "print(f\"The mean of needmet_med_inp for control {np.mean(control_needmet_med_inp)}\")\n",
    "print(f\"The mean of needmet_med_inp for treat {np.mean(treat_needmet_med_inp)}\")\n",
    "print(f\"The difference {diff}\")\n",
    "print(f\"The difference in percentages : {round(((diff/mean_control)*100),3)}%\")\n",
    "print(\"Either 0 or 1 || Yes or No question\")"
   ]
  },
  {
   "cell_type": "code",
   "execution_count": 9,
   "id": "3a47e3b4",
   "metadata": {},
   "outputs": [
    {
     "name": "stdout",
     "output_type": "stream",
     "text": [
      "The mean of needmet_ment_inp for control 0.7562009223482488\n",
      "The mean of needmet_ment_inp for treat 0.6625586854460094\n",
      "The difference -0.09364223690223938\n",
      "The difference in percentages : -12.383%\n",
      "Either 0 or 1 || Yes or No question\n"
     ]
    }
   ],
   "source": [
    "#needmet_ment_inp = Got all needed mental health care - Subjective\n",
    "control_needmet_ment_inp = [int(x[\"needmet_ment_inp\"]) for x in control if x[\"needmet_ment_inp\"] != \"\" ]\n",
    "treat_needmet_ment_inp = [int(x[\"needmet_ment_inp\"]) for x in treat if x[\"needmet_ment_inp\"] != \"\" ]\n",
    "mean_control = np.mean(control_needmet_ment_inp)\n",
    "mean_treat = np.mean(treat_needmet_med_inp)\n",
    "diff = mean_treat - mean_control\n",
    "print(f\"The mean of needmet_ment_inp for control {np.mean(control_needmet_ment_inp)}\")\n",
    "print(f\"The mean of needmet_ment_inp for treat {np.mean(treat_needmet_med_inp)}\")\n",
    "print(f\"The difference {diff}\")\n",
    "print(f\"The difference in percentages : {round(((diff/mean_control)*100),3)}%\")\n",
    "print(\"Either 0 or 1 || Yes or No question\")"
   ]
  },
  {
   "cell_type": "code",
   "execution_count": 10,
   "id": "571adfa3",
   "metadata": {},
   "outputs": [
    {
     "name": "stdout",
     "output_type": "stream",
     "text": [
      "The mean of needmet_rx_inp for control 0.7289021657953697\n",
      "The mean of needmet_rx_inp for treat 0.7749120750293084\n",
      "The difference 0.04600990923393866\n",
      "The difference in percentages : 6.312%\n",
      "Either 0 or 1 || Yes or No question\n"
     ]
    }
   ],
   "source": [
    "#needmet_rx_inp = Got all needed prescription medications - Subjective\n",
    "control_needmet_rx_inp = [int(x[\"needmet_rx_inp\"]) for x in control if x[\"needmet_rx_inp\"] != \"\" ]\n",
    "treat_needmet_rx_inp = [int(x[\"needmet_rx_inp\"]) for x in treat if x[\"needmet_rx_inp\"] != \"\" ]\n",
    "mean_control = np.mean(control_needmet_rx_inp)\n",
    "mean_treat = np.mean(treat_needmet_rx_inp)\n",
    "diff = mean_treat - mean_control\n",
    "print(f\"The mean of needmet_rx_inp for control {np.mean(control_needmet_rx_inp)}\")\n",
    "print(f\"The mean of needmet_rx_inp for treat {np.mean(treat_needmet_rx_inp)}\")\n",
    "print(f\"The difference {diff}\")\n",
    "print(f\"The difference in percentages : {round(((diff/mean_control)*100),3)}%\")\n",
    "print(\"Either 0 or 1 || Yes or No question\")"
   ]
  },
  {
   "cell_type": "code",
   "execution_count": 11,
   "id": "cd705cd4",
   "metadata": {},
   "outputs": [
    {
     "name": "stdout",
     "output_type": "stream",
     "text": [
      "The mean of needmet_rx_inp for control 2.622743229689067\n",
      "The mean of needmet_rx_inp for treat 3.0754716981132075\n",
      "The difference 0.4527284684241404\n",
      "The difference in percentages : 17.262%\n"
     ]
    }
   ],
   "source": [
    "#med_qual_inp = Quality of medical care\n",
    "control_med_qual_inp = [int(x[\"med_qual_inp\"].split(\":\")[0]) for x in control if x[\"med_qual_inp\"] != \"\" ]\n",
    "treat_med_qual_inp = [int(x[\"med_qual_inp\"].split(\":\")[0]) for x in treat if x[\"med_qual_inp\"] != \"\" ]\n",
    "mean_control = np.mean(control_med_qual_inp)\n",
    "mean_treat = np.mean(treat_med_qual_inp)\n",
    "diff = mean_treat - mean_control\n",
    "print(f\"The mean of needmet_rx_inp for control {mean_control}\")\n",
    "print(f\"The mean of needmet_rx_inp for treat {mean_treat}\")\n",
    "print(f\"The difference {diff}\")\n",
    "print(f\"The difference in percentages : {round(((diff/mean_control)*100),3)}%\")"
   ]
  },
  {
   "cell_type": "markdown",
   "id": "b0cc0fff",
   "metadata": {},
   "source": [
    "**Evaluation-1** <br>\n",
    "1. needmet_med_inp, Got all needed medical care - Subjective <br>\n",
    "Treatment group: + **10.4%** <br>\n",
    "<br>\n",
    "2. needmet_rx_inp, Got all needed prescription medications - Subjective <br>\n",
    "Treatment group: + **6.31%** <br>\n",
    "<br>\n",
    "3. med_qual_inp, Quality of medical care - Subjective <br>\n",
    "Treatment group: + **17.262%** <br>"
   ]
  },
  {
   "cell_type": "markdown",
   "id": "138ab1b0",
   "metadata": {},
   "source": [
    "# Quantity"
   ]
  },
  {
   "cell_type": "code",
   "execution_count": 12,
   "id": "2d6d4f53",
   "metadata": {
    "scrolled": true
   },
   "outputs": [
    {
     "name": "stdout",
     "output_type": "stream",
     "text": [
      "The mean of control_doc_num_incl_probe_inp for control 6.341220423412204\n",
      "The mean of treat_doc_num_incl_probe_inp for treat 8.037580739870815\n",
      "The difference 1.6963603164586116\n",
      "The difference in percentages : 26.751%\n"
     ]
    }
   ],
   "source": [
    "#doc_num_incl_probe_inp = Number of doctor visits in the past 12 months\n",
    "control_doc_num_incl_probe_inp = [int(x[\"doc_num_incl_probe_inp\"]) for x in control if x[\"doc_num_incl_probe_inp\"] != \"\"]\n",
    "treat_doc_num_incl_probe_inp = [int(x[\"doc_num_incl_probe_inp\"]) for x in treat if x[\"doc_num_incl_probe_inp\"] != \"\"]\n",
    "mean_control = np.mean(control_doc_num_incl_probe_inp)\n",
    "mean_treat = np.mean(treat_doc_num_incl_probe_inp)\n",
    "diff = mean_treat - mean_control\n",
    "print(f\"The mean of control_doc_num_incl_probe_inp for control {np.mean(control_doc_num_incl_probe_inp)}\")\n",
    "print(f\"The mean of treat_doc_num_incl_probe_inp for treat {np.mean(treat_doc_num_incl_probe_inp)}\")\n",
    "print(f\"The difference {diff}\")\n",
    "print(f\"The difference in percentages : {round(((diff/mean_control)*100),3)}%\")"
   ]
  },
  {
   "cell_type": "code",
   "execution_count": 13,
   "id": "c1ef3aa1",
   "metadata": {},
   "outputs": [
    {
     "ename": "KeyError",
     "evalue": "'ed_num_incl_probe_inp'",
     "output_type": "error",
     "traceback": [
      "\u001b[1;31m---------------------------------------------------------------------------\u001b[0m",
      "\u001b[1;31mKeyError\u001b[0m                                  Traceback (most recent call last)",
      "Cell \u001b[1;32mIn[13], line 2\u001b[0m\n\u001b[0;32m      1\u001b[0m \u001b[38;5;66;03m#ed_num_incl_probe_inp = Number of ER visits in the past 12 months\u001b[39;00m\n\u001b[1;32m----> 2\u001b[0m control_ed_num_incl_probe_inp \u001b[38;5;241m=\u001b[39m [\u001b[38;5;28mint\u001b[39m(x[\u001b[38;5;124m\"\u001b[39m\u001b[38;5;124med_num_incl_probe_inp\u001b[39m\u001b[38;5;124m\"\u001b[39m]) \u001b[38;5;28;01mfor\u001b[39;00m x \u001b[38;5;129;01min\u001b[39;00m control \u001b[38;5;28;01mif\u001b[39;00m x[\u001b[38;5;124m\"\u001b[39m\u001b[38;5;124med_num_incl_probe_inp\u001b[39m\u001b[38;5;124m\"\u001b[39m] \u001b[38;5;241m!=\u001b[39m \u001b[38;5;124m\"\u001b[39m\u001b[38;5;124m\"\u001b[39m]\n\u001b[0;32m      3\u001b[0m treat_ed_num_incl_probe_inp \u001b[38;5;241m=\u001b[39m [\u001b[38;5;28mint\u001b[39m(x[\u001b[38;5;124m\"\u001b[39m\u001b[38;5;124med_num_incl_probe_inp\u001b[39m\u001b[38;5;124m\"\u001b[39m]) \u001b[38;5;28;01mfor\u001b[39;00m x \u001b[38;5;129;01min\u001b[39;00m treat \u001b[38;5;28;01mif\u001b[39;00m x[\u001b[38;5;124m\"\u001b[39m\u001b[38;5;124med_num_incl_probe_inp\u001b[39m\u001b[38;5;124m\"\u001b[39m] \u001b[38;5;241m!=\u001b[39m \u001b[38;5;124m\"\u001b[39m\u001b[38;5;124m\"\u001b[39m]\n\u001b[0;32m      4\u001b[0m mean_control \u001b[38;5;241m=\u001b[39m np\u001b[38;5;241m.\u001b[39mmean(control_ed_num_incl_probe_inp)\n",
      "Cell \u001b[1;32mIn[13], line 2\u001b[0m, in \u001b[0;36m<listcomp>\u001b[1;34m(.0)\u001b[0m\n\u001b[0;32m      1\u001b[0m \u001b[38;5;66;03m#ed_num_incl_probe_inp = Number of ER visits in the past 12 months\u001b[39;00m\n\u001b[1;32m----> 2\u001b[0m control_ed_num_incl_probe_inp \u001b[38;5;241m=\u001b[39m [\u001b[38;5;28mint\u001b[39m(x[\u001b[38;5;124m\"\u001b[39m\u001b[38;5;124med_num_incl_probe_inp\u001b[39m\u001b[38;5;124m\"\u001b[39m]) \u001b[38;5;28;01mfor\u001b[39;00m x \u001b[38;5;129;01min\u001b[39;00m control \u001b[38;5;28;01mif\u001b[39;00m \u001b[43mx\u001b[49m\u001b[43m[\u001b[49m\u001b[38;5;124;43m\"\u001b[39;49m\u001b[38;5;124;43med_num_incl_probe_inp\u001b[39;49m\u001b[38;5;124;43m\"\u001b[39;49m\u001b[43m]\u001b[49m \u001b[38;5;241m!=\u001b[39m \u001b[38;5;124m\"\u001b[39m\u001b[38;5;124m\"\u001b[39m]\n\u001b[0;32m      3\u001b[0m treat_ed_num_incl_probe_inp \u001b[38;5;241m=\u001b[39m [\u001b[38;5;28mint\u001b[39m(x[\u001b[38;5;124m\"\u001b[39m\u001b[38;5;124med_num_incl_probe_inp\u001b[39m\u001b[38;5;124m\"\u001b[39m]) \u001b[38;5;28;01mfor\u001b[39;00m x \u001b[38;5;129;01min\u001b[39;00m treat \u001b[38;5;28;01mif\u001b[39;00m x[\u001b[38;5;124m\"\u001b[39m\u001b[38;5;124med_num_incl_probe_inp\u001b[39m\u001b[38;5;124m\"\u001b[39m] \u001b[38;5;241m!=\u001b[39m \u001b[38;5;124m\"\u001b[39m\u001b[38;5;124m\"\u001b[39m]\n\u001b[0;32m      4\u001b[0m mean_control \u001b[38;5;241m=\u001b[39m np\u001b[38;5;241m.\u001b[39mmean(control_ed_num_incl_probe_inp)\n",
      "\u001b[1;31mKeyError\u001b[0m: 'ed_num_incl_probe_inp'"
     ]
    }
   ],
   "source": [
    "#ed_num_incl_probe_inp = Number of ER visits in the past 12 months\n",
    "control_ed_num_incl_probe_inp = [int(x[\"ed_num_incl_probe_inp\"]) for x in control if x[\"ed_num_incl_probe_inp\"] != \"\"]\n",
    "treat_ed_num_incl_probe_inp = [int(x[\"ed_num_incl_probe_inp\"]) for x in treat if x[\"ed_num_incl_probe_inp\"] != \"\"]\n",
    "mean_control = np.mean(control_ed_num_incl_probe_inp)\n",
    "mean_treat = np.mean(treat_ed_num_incl_probe_inp)\n",
    "diff = mean_treat - mean_control\n",
    "print(f\"The mean of ed_num_incl_probe_inp for control {np.mean(control_ed_num_incl_probe_inp)}\")\n",
    "print(f\"The mean of ed_num_incl_probe_inp for treat {np.mean(treat_ed_num_incl_probe_inp)}\")\n",
    "print(f\"The difference {diff}\")\n",
    "print(f\"The difference in percentages : {round(((diff/mean_control)*100),3)}%\")"
   ]
  },
  {
   "cell_type": "code",
   "execution_count": 14,
   "id": "f639c2ef",
   "metadata": {},
   "outputs": [
    {
     "name": "stdout",
     "output_type": "stream",
     "text": [
      "The mean of hosp_num_incl_probe_inp for control 0.24097135740971357\n",
      "The mean of hosp_num_incl_probe_inp for treat 0.3458602466236054\n",
      "The difference 0.10488888921389186\n",
      "The difference in percentages : 43.528%\n"
     ]
    }
   ],
   "source": [
    "#hosp_num_incl_probe_inp = Number of hospitalizations in the past 12 months, stay in a hospital at least overnight\n",
    "control_hosp_num_incl_probe_inp = [int(x[\"hosp_num_incl_probe_inp\"]) for x in control if x[\"hosp_num_incl_probe_inp\"] != \"\"]\n",
    "treat_hosp_num_incl_probe_inp= [int(x[\"hosp_num_incl_probe_inp\"]) for x in treat if x[\"hosp_num_incl_probe_inp\"] != \"\"]\n",
    "mean_control = np.mean(control_hosp_num_incl_probe_inp)\n",
    "mean_treat = np.mean(treat_hosp_num_incl_probe_inp)\n",
    "diff = mean_treat - mean_control\n",
    "print(f\"The mean of hosp_num_incl_probe_inp for control {np.mean(control_hosp_num_incl_probe_inp)}\")\n",
    "print(f\"The mean of hosp_num_incl_probe_inp for treat {np.mean(treat_hosp_num_incl_probe_inp)}\")\n",
    "print(f\"The difference {diff}\")\n",
    "print(f\"The difference in percentages : {round(((diff/mean_control)*100),3)}%\")"
   ]
  },
  {
   "cell_type": "code",
   "execution_count": 15,
   "id": "96b7173d",
   "metadata": {},
   "outputs": [
    {
     "name": "stdout",
     "output_type": "stream",
     "text": [
      "The mean of cvd_risk_point_inp for control 0.0805759357429719\n",
      "The mean of cvd_risk_point_inp for treat 0.08500164874551971\n",
      "The difference = 0.004425713002547821\n",
      "The percentage difference = 5.49%\n"
     ]
    }
   ],
   "source": [
    "#cvd_risk_point_inp = Cardiovascular Risk, Framingham risk score\n",
    "\"\"\"\n",
    "This variable is constructed from the survey respondent's age, cholesterol measurements, A1c measurements, and\n",
    "information on whether or not the respondent is a smoker or taking high blood pressure medication.\n",
    "Cholesterol measurements\n",
    "A1c measurements\n",
    "\n",
    "\"\"\"\n",
    "control_cvd_risk_point_inp = [float(x[\"cvd_risk_point_inp\"]) for x in control if x[\"cvd_risk_point_inp\"] != \"\"]\n",
    "treat_cvd_risk_point_inp = [float(x[\"cvd_risk_point_inp\"]) for x in treat if x[\"cvd_risk_point_inp\"] != \"\"]\n",
    "mean_control = np.mean(control_cvd_risk_point_inp)\n",
    "mean_treat = np.mean(treat_cvd_risk_point_inp)\n",
    "print(f\"The mean of cvd_risk_point_inp for control {mean_control}\")\n",
    "print(f\"The mean of cvd_risk_point_inp for treat {mean_treat}\")\n",
    "print(f\"The difference = {(mean_treat-mean_control)}\")\n",
    "print(f\"The percentage difference = {round((((mean_treat-mean_control)/mean_control) * 100),2)}%\")"
   ]
  },
  {
   "cell_type": "markdown",
   "id": "88f2e8b2",
   "metadata": {},
   "source": [
    "**Evaluation-2** <br>\n",
    "1. doc_num_incl_probe_inp = Number of doctor visits in the past 12 months <br>\n",
    "Treatment Group: + **26.751%**\n",
    "<br>\n",
    "\n",
    "2. hosp_num_incl_probe_inp = Number of hospitalizations in the past 12 months <br>\n",
    "Treatment Group: + **43.528%**\n",
    "<br>\n",
    "\n",
    "3. cvd_risk_point_inp = Cardiovascular Risk, Framingham risk score <br>\n",
    "Treatment Group: + **5.49%**\n",
    "<br>\n"
   ]
  },
  {
   "cell_type": "markdown",
   "id": "69ad74e1",
   "metadata": {},
   "source": [
    "**Conclusion**\n",
    "People who are in the treatment group was able to access the medical care and needed prescription medications more but not significantly. <br>\n",
    "People who are in the treatment group was able to see the doctor and they were significantly more hospitalized, which indicates that they "
   ]
  },
  {
   "cell_type": "markdown",
   "id": "46fe3e3c",
   "metadata": {},
   "source": [
    "# Further investigation for obese people"
   ]
  },
  {
   "cell_type": "code",
   "execution_count": 16,
   "id": "e081576c",
   "metadata": {},
   "outputs": [
    {
     "name": "stdout",
     "output_type": "stream",
     "text": [
      "3314\n",
      "684\n"
     ]
    }
   ],
   "source": [
    "obese_threshold = 30\n",
    "\n",
    "obese_control = []\n",
    "obese_treat = []\n",
    "\n",
    "for i in range(len(control)):\n",
    "    bmi_val = control[i][\"bmi_inp\"]\n",
    "    \n",
    "    if bmi_val and float(bmi_val) >= 30:\n",
    "        obese_control.append(control[i])\n",
    "        \n",
    "\n",
    "for i in range(len(treat)):\n",
    "    bmi_val = treat[i][\"bmi_inp\"]\n",
    "    \n",
    "    if bmi_val and float(bmi_val) >= 30:\n",
    "        obese_treat.append(treat[i])\n",
    "        \n",
    "print(len(obese_control))\n",
    "print(len(obese_treat))"
   ]
  },
  {
   "cell_type": "code",
   "execution_count": 17,
   "id": "e924059e",
   "metadata": {},
   "outputs": [
    {
     "name": "stdout",
     "output_type": "stream",
     "text": [
      "The mean of control_doc_num_incl_probe_inp for control 7.55535390199637\n",
      "The mean of treat_doc_num_incl_probe_inp for treat 8.872620790629576\n",
      "The difference 1.3172668886332053\n",
      "The difference in percentages : 17.435%\n"
     ]
    }
   ],
   "source": [
    "#doc_num_incl_probe_inp = Number of doctor visits in the past 12 months\n",
    "control_doc_num_incl_probe_inp = [int(x[\"doc_num_incl_probe_inp\"]) for x in obese_control if x[\"doc_num_incl_probe_inp\"] != \"\"]\n",
    "treat_doc_num_incl_probe_inp = [int(x[\"doc_num_incl_probe_inp\"]) for x in obese_treat if x[\"doc_num_incl_probe_inp\"] != \"\"]\n",
    "mean_control = np.mean(control_doc_num_incl_probe_inp)\n",
    "mean_treat = np.mean(treat_doc_num_incl_probe_inp)\n",
    "diff = mean_treat - mean_control\n",
    "print(f\"The mean of control_doc_num_incl_probe_inp for control {np.mean(control_doc_num_incl_probe_inp)}\")\n",
    "print(f\"The mean of treat_doc_num_incl_probe_inp for treat {np.mean(treat_doc_num_incl_probe_inp)}\")\n",
    "print(f\"The difference {diff}\")\n",
    "print(f\"The difference in percentages : {round(((diff/mean_control)*100),3)}%\")"
   ]
  },
  {
   "cell_type": "code",
   "execution_count": 18,
   "id": "81c444d5",
   "metadata": {},
   "outputs": [
    {
     "name": "stdout",
     "output_type": "stream",
     "text": [
      "The mean of hosp_num_incl_probe_inp for control 0.24947081947384336\n",
      "The mean of hosp_num_incl_probe_inp for treat 0.2547584187408492\n",
      "The difference 0.005287599267005838\n",
      "The difference in percentages : 2.12%\n"
     ]
    }
   ],
   "source": [
    "#hosp_num_incl_probe_inp = Number of hospitalizations in the past 12 months, stay in a hospital at least overnight\n",
    "control_hosp_num_incl_probe_inp = [int(x[\"hosp_num_incl_probe_inp\"]) for x in obese_control if x[\"hosp_num_incl_probe_inp\"] != \"\"]\n",
    "treat_hosp_num_incl_probe_inp= [int(x[\"hosp_num_incl_probe_inp\"]) for x in obese_treat if x[\"hosp_num_incl_probe_inp\"] != \"\"]\n",
    "mean_control = np.mean(control_hosp_num_incl_probe_inp)\n",
    "mean_treat = np.mean(treat_hosp_num_incl_probe_inp)\n",
    "diff = mean_treat - mean_control\n",
    "print(f\"The mean of hosp_num_incl_probe_inp for control {np.mean(control_hosp_num_incl_probe_inp)}\")\n",
    "print(f\"The mean of hosp_num_incl_probe_inp for treat {np.mean(treat_hosp_num_incl_probe_inp)}\")\n",
    "print(f\"The difference {diff}\")\n",
    "print(f\"The difference in percentages : {round(((diff/mean_control)*100),3)}%\")"
   ]
  },
  {
   "cell_type": "code",
   "execution_count": 19,
   "id": "e0578677",
   "metadata": {},
   "outputs": [
    {
     "name": "stdout",
     "output_type": "stream",
     "text": [
      "The mean of cvd_risk_point_inp for control 0.08404596226415094\n",
      "The mean of cvd_risk_point_inp for treat 0.08604957983193279\n",
      "The difference = 0.0020036175677818485\n",
      "The percentage difference = 2.38%\n"
     ]
    }
   ],
   "source": [
    "#cvd_risk_point_inp = Cardiovascular Risk, Framingham risk score\n",
    "\"\"\"\n",
    "This variable is constructed from the survey respondent's age, cholesterol measurements, A1c measurements, and\n",
    "information on whether or not the respondent is a smoker or taking high blood pressure medication.\n",
    "Cholesterol measurements\n",
    "A1c measurements\n",
    "\n",
    "\"\"\"\n",
    "control_cvd_risk_point_inp = [float(x[\"cvd_risk_point_inp\"]) for x in obese_control if x[\"cvd_risk_point_inp\"] != \"\"]\n",
    "treat_cvd_risk_point_inp = [float(x[\"cvd_risk_point_inp\"]) for x in obese_treat if x[\"cvd_risk_point_inp\"] != \"\"]\n",
    "mean_control = np.mean(control_cvd_risk_point_inp)\n",
    "mean_treat = np.mean(treat_cvd_risk_point_inp)\n",
    "print(f\"The mean of cvd_risk_point_inp for control {mean_control}\")\n",
    "print(f\"The mean of cvd_risk_point_inp for treat {mean_treat}\")\n",
    "print(f\"The difference = {(mean_treat-mean_control)}\")\n",
    "print(f\"The percentage difference = {round((((mean_treat-mean_control)/mean_control) * 100),2)}%\")"
   ]
  },
  {
   "cell_type": "code",
   "execution_count": 20,
   "id": "7cfe5d34",
   "metadata": {},
   "outputs": [
    {
     "name": "stdout",
     "output_type": "stream",
     "text": [
      "The mean of needmet_med_inp for control 0.575226586102719\n",
      "The mean of needmet_med_inp for treat 0.6471449487554904\n",
      "The difference 0.0719183626527714\n",
      "The difference in percentages : 12.503%\n",
      "Either 0 or 1 || Yes or No question\n"
     ]
    }
   ],
   "source": [
    "#needmet_med_inp = Got all needed medical care - Subjective\n",
    "control_needmet_med_inp = [int(x[\"needmet_med_inp\"]) for x in obese_control if x[\"needmet_med_inp\"] != \"\" ]\n",
    "treat_needmet_med_inp = [int(x[\"needmet_med_inp\"]) for x in obese_treat if x[\"needmet_med_inp\"] != \"\" ]\n",
    "mean_control = np.mean(control_needmet_med_inp)\n",
    "mean_treat = np.mean(treat_needmet_med_inp)\n",
    "diff = mean_treat - mean_control\n",
    "print(f\"The mean of needmet_med_inp for control {np.mean(control_needmet_med_inp)}\")\n",
    "print(f\"The mean of needmet_med_inp for treat {np.mean(treat_needmet_med_inp)}\")\n",
    "print(f\"The difference {diff}\")\n",
    "print(f\"The difference in percentages : {round(((diff/mean_control)*100),3)}%\")\n",
    "print(\"Either 0 or 1 || Yes or No question\")"
   ]
  },
  {
   "cell_type": "code",
   "execution_count": 21,
   "id": "f74f435e",
   "metadata": {},
   "outputs": [
    {
     "name": "stdout",
     "output_type": "stream",
     "text": [
      "The mean of needmet_rx_inp for control 0.6795646916565901\n",
      "The mean of needmet_rx_inp for treat 0.7456140350877193\n",
      "The difference 0.06604934343112923\n",
      "The difference in percentages : 9.719%\n",
      "Either 0 or 1 || Yes or No question\n"
     ]
    }
   ],
   "source": [
    "#needmet_rx_inp = Got all needed prescription medications - Subjective\n",
    "control_needmet_rx_inp = [int(x[\"needmet_rx_inp\"]) for x in obese_control if x[\"needmet_rx_inp\"] != \"\" ]\n",
    "treat_needmet_rx_inp = [int(x[\"needmet_rx_inp\"]) for x in obese_treat if x[\"needmet_rx_inp\"] != \"\" ]\n",
    "mean_control = np.mean(control_needmet_rx_inp)\n",
    "mean_treat = np.mean(treat_needmet_rx_inp)\n",
    "diff = mean_treat - mean_control\n",
    "print(f\"The mean of needmet_rx_inp for control {np.mean(control_needmet_rx_inp)}\")\n",
    "print(f\"The mean of needmet_rx_inp for treat {np.mean(treat_needmet_rx_inp)}\")\n",
    "print(f\"The difference {diff}\")\n",
    "print(f\"The difference in percentages : {round(((diff/mean_control)*100),3)}%\")\n",
    "print(\"Either 0 or 1 || Yes or No question\")"
   ]
  },
  {
   "cell_type": "code",
   "execution_count": 22,
   "id": "27005867",
   "metadata": {},
   "outputs": [
    {
     "name": "stdout",
     "output_type": "stream",
     "text": [
      "The mean of needmet_rx_inp for control 2.7568472306755933\n",
      "The mean of needmet_rx_inp for treat 3.225806451612903\n",
      "The difference 0.4689592209373097\n",
      "The difference in percentages : 17.011%\n",
      "3286\n",
      "682\n"
     ]
    }
   ],
   "source": [
    "#med_qual_inp = Quality of medical care\n",
    "control_med_qual_inp = [int(x[\"med_qual_inp\"].split(\":\")[0]) for x in obese_control if x[\"med_qual_inp\"] != \"\" ]\n",
    "treat_med_qual_inp = [int(x[\"med_qual_inp\"].split(\":\")[0]) for x in obese_treat if x[\"med_qual_inp\"] != \"\" ]\n",
    "mean_control = np.mean(control_med_qual_inp)\n",
    "mean_treat = np.mean(treat_med_qual_inp)\n",
    "diff = mean_treat - mean_control\n",
    "print(f\"The mean of needmet_rx_inp for control {mean_control}\")\n",
    "print(f\"The mean of needmet_rx_inp for treat {mean_treat}\")\n",
    "print(f\"The difference {diff}\")\n",
    "print(f\"The difference in percentages : {round(((diff/mean_control)*100),3)}%\")\n",
    "print(len(control_med_qual_inp))\n",
    "print(len(treat_med_qual_inp))"
   ]
  },
  {
   "cell_type": "markdown",
   "id": "010cf115",
   "metadata": {},
   "source": [
    "**Evaluation-3** <br>\n",
    "1. needmet_med_inp, Got all needed medical care - Subjective <br>\n",
    "Treatment group: + **10.4% -> 12.503%** <br>\n",
    "<br>\n",
    "2. needmet_rx_inp, Got all needed prescription medications - Subjective <br>\n",
    "Treatment group: + **6.31% -> 9.719%** <br>\n",
    "<br>\n",
    "3. med_qual_inp, Quality of medical care - Subjective <br>\n",
    "Treatment group: + **17.262% -> 17.011%** <br>\n",
    "<br>\n",
    "\n",
    "4. doc_num_incl_probe_inp = Number of doctor visits in the past 12 months <br>\n",
    "Treatment Group: + **26.751% -> 17.435%**\n",
    "<br>\n",
    "\n",
    "5. hosp_num_incl_probe_inp = Number of hospitalizations in the past 12 months <br>\n",
    "Treatment Group: + **43.528% -> 2.12%**\n",
    "<br>\n",
    "\n",
    "6. cvd_risk_point_inp = Cardiovascular Risk, Framingham risk score <br>\n",
    "Treatment Group: + **5.49% -> 2.38%**\n",
    "<br>\n"
   ]
  },
  {
   "cell_type": "markdown",
   "id": "b4c9c1a1",
   "metadata": {},
   "source": [
    "# Conclusion\n",
    "Maybe the increase in percentages seem positive change. However, the numbers are quite low"
   ]
  },
  {
   "cell_type": "code",
   "execution_count": 11,
   "id": "7c75a325",
   "metadata": {},
   "outputs": [],
   "source": [
    "records = [ row for row in dataDict]\n",
    "for i in range(len(records)):\n",
    "    x = records[i]\n",
    "    if x[\"approved_app\"] != \"\":\n",
    "        x[\"approved_app\"] = int(x[\"approved_app\"])"
   ]
  },
  {
   "cell_type": "code",
   "execution_count": 12,
   "id": "9e7446e5",
   "metadata": {},
   "outputs": [
    {
     "name": "stdout",
     "output_type": "stream",
     "text": [
      "There are 5977 people in control group\n",
      "There are 1706 people in treatment group\n"
     ]
    }
   ],
   "source": [
    "control = []\n",
    "treat = []\n",
    "\n",
    "for i in range(len(records)):\n",
    "    x = records[i]\n",
    "    \n",
    "    if x[\"approved_app\"] == 1:\n",
    "        treat.append(x)\n",
    "    elif (x[\"ins_any_inp\"] == \"\" or x[\"ins_any_inp\"] == \"0\") and (x[\"ins_ohp_inp\"] == \"\" or x[\"ins_ohp_inp\"] == \"0\") and (x[\"ins_private_inp\"] == \"\" or x[\"ins_private_inp\"] == \"0\"):\n",
    "        control.append(x)\n",
    "print(f\"There are {len(control)} people in control group\")\n",
    "print(f\"There are {len(treat)} people in treatment group\")"
   ]
  },
  {
   "cell_type": "code",
   "execution_count": 13,
   "id": "afe99009",
   "metadata": {},
   "outputs": [],
   "source": [
    "# rx_num_mod_inp Number of prescription medications currently taking (modified, see codebook for\n",
    "# hbp_dirue_med_inp Taking any medication for high blood pressure medication (ETC code)\n",
    "# antihyperlip_med_inp Taking at least one high cholesterol medication (ETC code)\n",
    "# diabetes_med_inp Taking at least one diabetes medication (ETC code)"
   ]
  },
  {
   "cell_type": "code",
   "execution_count": 6,
   "id": "f6e2de0b",
   "metadata": {
    "scrolled": true
   },
   "outputs": [
    {
     "data": {
      "text/plain": [
       "{'person_id': '8',\n",
       " 'approved_app': 0,\n",
       " 'female_list': '0',\n",
       " 'age_inp': '41',\n",
       " 'health_last12_inp': '3: Fair',\n",
       " 'health_change_inp': '1: Worse',\n",
       " 'dia_dx_pre_lottery_inp': '0',\n",
       " 'dia_dx_post_lottery_inp': '0',\n",
       " 'hbp_dx_pre_lottery_inp': '0',\n",
       " 'hbp_dx_post_lottery_inp': '1',\n",
       " 'chl_dx_pre_lottery_inp': '0',\n",
       " 'chl_dx_post_lottery_inp': '1',\n",
       " 'needmet_med_inp': '0',\n",
       " 'needmet_ment_inp': '1',\n",
       " 'needmet_rx_inp': '0',\n",
       " 'med_qual_inp': '2: Fair',\n",
       " 'chl_chk_inp': '1',\n",
       " 'fobt_chk_inp': '',\n",
       " 'cvd_risk_point_inp': '0.112',\n",
       " 'doc_num_incl_probe_inp': '6',\n",
       " 'ed_any_incl_probe_inp': '1',\n",
       " 'hosp_num_incl_probe_inp': '0',\n",
       " 'ins_any_inp': '0',\n",
       " 'ins_ohp_inp': '0',\n",
       " 'ins_private_inp': '0',\n",
       " 'a1c_inp': '5.2005',\n",
       " 'chl_inp': '229.859',\n",
       " 'bmi_inp': '35.2312',\n",
       " 'bp_sar_inp': '134',\n",
       " 'bp_dar_inp': '82',\n",
       " 'rx_any_mod_inp': '1',\n",
       " 'rx_num_mod_inp': '2',\n",
       " 'hbp_diure_med_inp': '0',\n",
       " 'antihyperlip_med_inp': '0',\n",
       " 'diabetes_med_inp': '0',\n",
       " 'meds_miss_inp': '0',\n",
       " 'num_visit_pre_cens_ed': '0',\n",
       " 'num_visit_cens_ed': '2',\n",
       " 'num_hiun_pre_cens_ed': '0',\n",
       " 'num_hiun_cens_ed': '2',\n",
       " 'num_loun_pre_cens_ed': '0',\n",
       " 'num_loun_cens_ed': '0'}"
      ]
     },
     "execution_count": 6,
     "metadata": {},
     "output_type": "execute_result"
    }
   ],
   "source": [
    "control[0]"
   ]
  },
  {
   "cell_type": "code",
   "execution_count": 14,
   "id": "35ce0fb0",
   "metadata": {
    "scrolled": false
   },
   "outputs": [
    {
     "name": "stdout",
     "output_type": "stream",
     "text": [
      "The mean of rx_any_mod_inp for control 0.44929718875502006\n",
      "The mean of rx_any_mod_inp for treat 0.6178194607268465\n",
      "The difference 0.1685222719718264\n",
      "The difference in percentages : 37.508%\n"
     ]
    }
   ],
   "source": [
    "# rx_any_mod_inp Curently taking any prescription medications (modified, see codebook)\n",
    "control_rx_any_mod_inp = []\n",
    "treat_rx_any_mod_inp = []\n",
    "\n",
    "for t in control:\n",
    "    if t[\"rx_any_mod_inp\"] == \"\":\n",
    "        continue\n",
    "    if t[\"rx_any_mod_inp\"] == \"1\":\n",
    "        control_rx_any_mod_inp.append(1)\n",
    "    else:\n",
    "        control_rx_any_mod_inp.append(0)\n",
    "        \n",
    "for t in treat:\n",
    "    if t[\"rx_any_mod_inp\"] == \"\":\n",
    "        continue\n",
    "    if t[\"rx_any_mod_inp\"] == \"1\":\n",
    "        treat_rx_any_mod_inp.append(1)\n",
    "    else:\n",
    "        treat_rx_any_mod_inp.append(0)\n",
    "\n",
    "mean_control = np.mean(control_rx_any_mod_inp)\n",
    "mean_treat = np.mean(treat_rx_any_mod_inp)\n",
    "diff = mean_treat - mean_control\n",
    "print(f\"The mean of rx_any_mod_inp for control {mean_control}\")\n",
    "print(f\"The mean of rx_any_mod_inp for treat {mean_treat}\")\n",
    "print(f\"The difference {diff}\")\n",
    "print(f\"The difference in percentages : {round(((diff/mean_control)*100),3)}%\")"
   ]
  },
  {
   "cell_type": "code",
   "execution_count": 18,
   "id": "bfe9167e",
   "metadata": {},
   "outputs": [
    {
     "name": "stdout",
     "output_type": "stream",
     "text": [
      "The mean of rx_num_mod_inp for control 1.2187124463519314\n",
      "The mean of rx_num_mod_inp for treat 2.391826923076923\n",
      "The difference 1.1731144767249915\n",
      "The difference in percentages : 96.259%\n"
     ]
    }
   ],
   "source": [
    "\n",
    "control_rx_num_mod_inp = []\n",
    "treat_rx_num_mod_inp = []\n",
    "\n",
    "for t in control:\n",
    "    if t[\"rx_num_mod_inp\"] == \"\":\n",
    "        continue\n",
    "    control_rx_num_mod_inp.append(float(t[\"rx_num_mod_inp\"]))\n",
    "        \n",
    "for t in treat:\n",
    "    if t[\"rx_num_mod_inp\"] == \"\":\n",
    "        continue\n",
    "    treat_rx_num_mod_inp.append(float(t[\"rx_num_mod_inp\"]))\n",
    "    \n",
    "mean_control = np.mean(control_rx_num_mod_inp)\n",
    "mean_treat = np.mean(treat_rx_num_mod_inp)\n",
    "diff = mean_treat - mean_control\n",
    "print(f\"The mean of rx_num_mod_inp for control {mean_control}\")\n",
    "print(f\"The mean of rx_num_mod_inp for treat {mean_treat}\")\n",
    "print(f\"The difference {diff}\")\n",
    "print(f\"The difference in percentages : {round(((diff/mean_control)*100),3)}%\")"
   ]
  },
  {
   "cell_type": "code",
   "execution_count": 15,
   "id": "7919c2e6",
   "metadata": {},
   "outputs": [
    {
     "name": "stdout",
     "output_type": "stream",
     "text": [
      "The mean of hbp_diure_med_inp for control 0.09804249623556968\n",
      "The mean of hbp_diure_med_inp for treat 0.1623681125439625\n",
      "The difference 0.06432561630839281\n",
      "The difference in percentages : 65.61%\n"
     ]
    }
   ],
   "source": [
    "control_hbp_diure_med_inp = []\n",
    "treat_hbp_diure_med_inp = []\n",
    "\n",
    "for t in control:\n",
    "    if t[\"hbp_diure_med_inp\"] == \"\":\n",
    "        continue\n",
    "    if t[\"hbp_diure_med_inp\"] == \"1\":\n",
    "        control_hbp_diure_med_inp.append(1)\n",
    "    else:\n",
    "        control_hbp_diure_med_inp.append(0)\n",
    "        \n",
    "for t in treat:\n",
    "    if t[\"hbp_diure_med_inp\"] == \"\":\n",
    "        continue\n",
    "    if t[\"hbp_diure_med_inp\"] == \"1\":\n",
    "        treat_hbp_diure_med_inp.append(1)\n",
    "    else:\n",
    "        treat_hbp_diure_med_inp.append(0)\n",
    "\n",
    "mean_control = np.mean(control_hbp_diure_med_inp)\n",
    "mean_treat = np.mean(treat_hbp_diure_med_inp)\n",
    "diff = mean_treat - mean_control\n",
    "print(f\"The mean of hbp_diure_med_inp for control {mean_control}\")\n",
    "print(f\"The mean of hbp_diure_med_inp for treat {mean_treat}\")\n",
    "print(f\"The difference {diff}\")\n",
    "print(f\"The difference in percentages : {round(((diff/mean_control)*100),3)}%\")"
   ]
  },
  {
   "cell_type": "code",
   "execution_count": 16,
   "id": "d3d5d516",
   "metadata": {},
   "outputs": [
    {
     "name": "stdout",
     "output_type": "stream",
     "text": [
      "The mean of antihyperlip_med_inp for control 0.05956165300317885\n",
      "The mean of antihyperlip_med_inp for treat 0.10492379835873387\n",
      "The difference 0.04536214535555502\n",
      "The difference in percentages : 76.16%\n"
     ]
    }
   ],
   "source": [
    "control_antihyperlip_med_inp = []\n",
    "treat_hantihyperlip_med_inp = []\n",
    "\n",
    "for t in control:\n",
    "    if t[\"antihyperlip_med_inp\"] == \"\":\n",
    "        continue\n",
    "    if t[\"antihyperlip_med_inp\"] == \"1\":\n",
    "        control_antihyperlip_med_inp.append(1)\n",
    "    else:\n",
    "        control_antihyperlip_med_inp.append(0)\n",
    "        \n",
    "for t in treat:\n",
    "    if t[\"antihyperlip_med_inp\"] == \"\":\n",
    "        continue\n",
    "    if t[\"antihyperlip_med_inp\"] == \"1\":\n",
    "        treat_hantihyperlip_med_inp.append(1)\n",
    "    else:\n",
    "        treat_hantihyperlip_med_inp.append(0)\n",
    "\n",
    "mean_control = np.mean(control_antihyperlip_med_inp)\n",
    "mean_treat = np.mean(treat_hantihyperlip_med_inp)\n",
    "diff = mean_treat - mean_control\n",
    "print(f\"The mean of antihyperlip_med_inp for control {mean_control}\")\n",
    "print(f\"The mean of antihyperlip_med_inp for treat {mean_treat}\")\n",
    "print(f\"The difference {diff}\")\n",
    "print(f\"The difference in percentages : {round(((diff/mean_control)*100),3)}%\")"
   ]
  },
  {
   "cell_type": "code",
   "execution_count": 17,
   "id": "a337e57f",
   "metadata": {},
   "outputs": [
    {
     "name": "stdout",
     "output_type": "stream",
     "text": [
      "The mean of diabetes_med_inp for control 0.05387318052534716\n",
      "The mean of diabetes_med_inp for treat 0.07268464243845252\n",
      "The difference 0.018811461913105357\n",
      "The difference in percentages : 34.918%\n"
     ]
    }
   ],
   "source": [
    "control_diabetes_med_inp = []\n",
    "treat_diabetes_med_inp = []\n",
    "\n",
    "for t in control:\n",
    "    if t[\"diabetes_med_inp\"] == \"\":\n",
    "        continue\n",
    "    if t[\"diabetes_med_inp\"] == \"1\":\n",
    "        control_diabetes_med_inp.append(1)\n",
    "    else:\n",
    "        control_diabetes_med_inp.append(0)\n",
    "        \n",
    "for t in treat:\n",
    "    if t[\"diabetes_med_inp\"] == \"\":\n",
    "        continue\n",
    "    if t[\"diabetes_med_inp\"] == \"1\":\n",
    "        treat_diabetes_med_inp.append(1)\n",
    "    else:\n",
    "        treat_diabetes_med_inp.append(0)\n",
    "\n",
    "mean_control = np.mean(control_diabetes_med_inp)\n",
    "mean_treat = np.mean(treat_diabetes_med_inp)\n",
    "diff = mean_treat - mean_control\n",
    "print(f\"The mean of diabetes_med_inp for control {mean_control}\")\n",
    "print(f\"The mean of diabetes_med_inp for treat {mean_treat}\")\n",
    "print(f\"The difference {diff}\")\n",
    "print(f\"The difference in percentages : {round(((diff/mean_control)*100),3)}%\")"
   ]
  },
  {
   "cell_type": "markdown",
   "id": "7d937bf3",
   "metadata": {},
   "source": [
    "**Evaluation, Whether treatment group takes the recommended care**\n",
    "<br>\n",
    "1) rx_num_mod_inp Number of prescription medications currently taking <br>\n",
    " Treatment Group **+17.349**\n",
    "<br>\n",
    "2) hbp_dirue_med_inp Taking any medication for high blood pressure medication <br>\n",
    " Treatment Group **+29.88**\n",
    "<br>\n",
    "3) diabetes_med_inp Taking at least one diabetes medication <br>\n",
    " Treatment Group **+12.318%**\n",
    "<br>"
   ]
  },
  {
   "cell_type": "markdown",
   "id": "9e310bf8",
   "metadata": {},
   "source": [
    "# All evaluations"
   ]
  },
  {
   "cell_type": "markdown",
   "id": "b820e53f",
   "metadata": {},
   "source": [
    "**Quality- General**<br>\n",
    "1. needmet_med_inp, Got all needed medical care - Subjective <br>\n",
    "Treatment group: + **10.4%** <br>\n",
    "<br>\n",
    "2. needmet_rx_inp, Got all needed prescription medications - Subjective <br>\n",
    "Treatment group: + **6.31%** <br>\n",
    "<br>\n",
    "3. med_qual_inp, Quality of medical care - Subjective <br>\n",
    "Treatment group: + **17.262%** <br>"
   ]
  },
  {
   "cell_type": "markdown",
   "id": "d10d6cf3",
   "metadata": {},
   "source": [
    "**Quantity - General** <br>\n",
    "1. doc_num_incl_probe_inp = Number of doctor visits in the past 12 months <br>\n",
    "Treatment Group: + **26.751%**\n",
    "<br>\n",
    "\n",
    "2. hosp_num_incl_probe_inp = Number of hospitalizations in the past 12 months <br>\n",
    "Treatment Group: + **43.528%**\n",
    "<br>\n",
    "\n",
    "3. cvd_risk_point_inp = Cardiovascular Risk, Framingham risk score <br>\n",
    "Treatment Group: + **5.49%**\n",
    "<br>"
   ]
  },
  {
   "cell_type": "markdown",
   "id": "cafd1c4d",
   "metadata": {},
   "source": [
    "**Quality & Quantity for Obese People w/ Comparisons** <br>\n",
    "1. needmet_med_inp, Got all needed medical care - Subjective <br>\n",
    "Treatment group: + **10.4% -> 12.503%** <br>\n",
    "<br>\n",
    "2. needmet_rx_inp, Got all needed prescription medications - Subjective <br>\n",
    "Treatment group: + **6.31% -> 9.719%** <br>\n",
    "<br>\n",
    "3. med_qual_inp, Quality of medical care - Subjective <br>\n",
    "Treatment group: + **17.262% -> 17.011%** <br>\n",
    "<br>\n",
    "\n",
    "4. doc_num_incl_probe_inp = Number of doctor visits in the past 12 months <br>\n",
    "Treatment Group: + **26.751% -> 17.435%**\n",
    "<br>\n",
    "\n",
    "5. hosp_num_incl_probe_inp = Number of hospitalizations in the past 12 months <br>\n",
    "Treatment Group: + **43.528% -> 2.12%**\n",
    "<br>\n",
    "\n",
    "6. cvd_risk_point_inp = Cardiovascular Risk, Framingham risk score <br>\n",
    "Treatment Group: + **5.49% -> 2.38%**\n",
    "<br>\n"
   ]
  },
  {
   "cell_type": "markdown",
   "id": "f9374fb0",
   "metadata": {},
   "source": [
    "**Quantity check whether treatment group takes the recommended care**\n",
    "<br>\n",
    "1) rx_num_mod_inp Number of prescription medications currently taking <br>\n",
    " Treatment Group **+17.349**\n",
    "<br>\n",
    "2) hbp_dirue_med_inp Taking any medication for high blood pressure medication <br>\n",
    " Treatment Group **+29.88**\n",
    "<br>\n",
    "3) diabetes_med_inp Taking at least one diabetes medication <br>\n",
    " Treatment Group **+12.318%**\n",
    "<br>"
   ]
  },
  {
   "cell_type": "markdown",
   "id": "5ccdf3e9",
   "metadata": {},
   "source": [
    "**QUESTIONs & IDEAS**\n",
    "<br>\n",
    "- Linear model to see if the being diagnosed increased the likelihood of taking medication?"
   ]
  },
  {
   "cell_type": "code",
   "execution_count": 23,
   "id": "cbaec917",
   "metadata": {},
   "outputs": [
    {
     "data": {
      "text/plain": [
       "38.06078147612155"
      ]
     },
     "execution_count": 23,
     "metadata": {},
     "output_type": "execute_result"
    }
   ],
   "source": [
    "(9.54-6.91)/6.91 *100"
   ]
  },
  {
   "cell_type": "code",
   "execution_count": null,
   "id": "3b281f3e",
   "metadata": {},
   "outputs": [],
   "source": []
  }
 ],
 "metadata": {
  "kernelspec": {
   "display_name": "Python 3 (ipykernel)",
   "language": "python",
   "name": "python3"
  },
  "language_info": {
   "codemirror_mode": {
    "name": "ipython",
    "version": 3
   },
   "file_extension": ".py",
   "mimetype": "text/x-python",
   "name": "python",
   "nbconvert_exporter": "python",
   "pygments_lexer": "ipython3",
   "version": "3.8.0"
  }
 },
 "nbformat": 4,
 "nbformat_minor": 5
}
