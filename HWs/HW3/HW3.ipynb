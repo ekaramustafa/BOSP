{
 "cells": [
  {
   "cell_type": "markdown",
   "metadata": {},
   "source": [
    "# Dealing with Data, Homework 3 (due week 5)\n",
    "## Natural Experiments and Instrumental Variables!\n",
    "\n",
    "\n",
    "Due Tuesday 31 October at 14:20 on Blackboard.\n",
    "\n",
    "Please just hand in this completed .ipynb file.\n",
    "\n",
    "<font color=\"red\">**IMPORTANT: Please name your file with your name(s). (e.g., \"Mary_Isaac_HW3.ipynb\")** </font> \n",
    "\n",
    "You may hand this in in pairs.  If you do, only one member of each pair needs to hand it in, just make it clear who your partner is."
   ]
  },
  {
   "cell_type": "markdown",
   "metadata": {},
   "source": [
    "# Overview and Background"
   ]
  },
  {
   "cell_type": "markdown",
   "metadata": {},
   "source": [
    "## Our question, strategy, and some terminology\n",
    "\n",
    "What is the effect of having children on women's labor force participation?  That is, if a woman has many children, does that make her less likely to be employed?  Or the opposite?\n",
    "\n",
    "This is an example of a question where an RCT seems impossible or unethical.  However, we can still look for **natural experiments.**  A natural experiment is when something happens that we think is *pretty* random, and that generates variation in the variable we care about (in this case number of children).  The thing that we think is \"pretty random\" is called an **instrumental variable.** We'll talk more about instrumental variables in Class 4, but you can get started on this assignment after Class 3.\n",
    "\n",
    "Our assignment today uses data from both the US and Turkey, and follows an idea from a 1998 paper by Angrist and Evans (citation below).  The basic idea is this: it turns out that if a woman has two children of the *same* sex, she is more likely to have a third child.  Since whether or a woman's first two children are the same sex as each other seems pretty random (uncorrelated with anything relevant about the woman), we can use this as an **instrument** for number of children.  That is, if a woman randomly has two boys or two girls, rather than a boy and a girl, as her first two children, we think that she's (randomly) more likely to have a third child.  We can use this random variation and *pretend* we have an RCT, even when we don't!  Then we'll use our analysis of RCTs (and in particular how to compute the Local Average Treatment Effect, or LATE) on this natural experiment.\n",
    "\n",
    "In the jargon above, our **instrumental variable** is whether or not a women has two same-sex or two different-sex children as her first two children.\n",
    "\n",
    "<font color=\"blue\">**NOTE:** We'll talk more about instrumental variables and natural experiments (and this particular paper by Angrist and Evans) in Class 4.  We think that you can get started on this HW after Class 3, but if it's incomprehesible, you may want to wait until after Class 4.</font>"
   ]
  },
  {
   "cell_type": "markdown",
   "metadata": {},
   "source": [
    "## Data Source\n",
    "\n",
    "We've included data from both the US and Turkey.  The data come from the population censuses in 2000 in both the U.S. and Turkey.  The original data this is based on is downloadable from IPUMS (https://www.ipums.org/), and we've used a version from (Aaronson et al., 2021), cited below.  \n",
    "\n",
    "The data only includes women with one or more children, where the women are between the ages of 18 and 35."
   ]
  },
  {
   "cell_type": "markdown",
   "metadata": {},
   "source": [
    "## (Optional) References\n",
    "\n",
    "Here are some papers that this problem set is based on, if you'd like to do additional (optional) reading.  We'll post these papers with the assignment on Blackboard if you are interested!\n",
    "\n",
    "Angrist, Joshua and Willian Evans.  “Children and Their Parents’ Labor Supply: Evidence from Exogenous Variation in Family Size.’’  1998. American Economic Review 88(3): 450-477.\n",
    "\n",
    "Aaronson, Daniel, Rajeev Dehejia, Andrew Jordan, Cristian Pop-Eleches, Cyrus Samii and Karl Schulze.    “The Effect of Ferility on Mother’s Labour Supply over the last two centuries.’’ 2021.  Economic Journal.  131: 1-32. "
   ]
  },
  {
   "cell_type": "markdown",
   "metadata": {},
   "source": [
    "# Part 0: What's the \"experiment\"?\n",
    "\n",
    "Read the blurb above and think about the \"natural experiment\" we are trying to run.  Based on the description above, explain (in words):\n",
    "1. Who is the treatment group in this experiment?\n",
    "2. Who is the control group in this experiment?\n",
    "3. If we were to estimate the LATE from this experiment, what would we do, mechanically?\n",
    "4. If we were to estimate the LATE from this experiment, then we should interpret it as the average treatment effect among the population of **compliers.** What does it mean to be a \"complier\" in this experiment?"
   ]
  },
  {
   "cell_type": "markdown",
   "metadata": {},
   "source": [
    "# <font color=\"red\">TODO: Double-click this box and write your answers below</font> \n",
    "<font color=\"red\">You can turn it back into a nice text cell by hitting Shift+Enter when you are done.</font>\n",
    "\n",
    "1. **ANSWER:** TODO\n",
    "2. **ANSWER:** TODO\n",
    "3. **ANSWER:** TODO\n",
    "4. **ANSWER:** TODO           "
   ]
  },
  {
   "cell_type": "markdown",
   "metadata": {},
   "source": [
    "# Part 1: Load the data\n",
    "\n",
    "Run the following cell (Shift+Enter) to load the data.  We'll also go ahead and load numpy and pyplot now so that we don't have to do it later."
   ]
  },
  {
   "cell_type": "code",
   "execution_count": null,
   "metadata": {},
   "outputs": [],
   "source": [
    "import csv\n",
    "import numpy as np\n",
    "from matplotlib import pyplot as plt\n",
    "\n",
    "datafile = open('week4.csv', newline='')\n",
    "dataDict = csv.DictReader(datafile, delimiter=\",\")\n",
    "print(\"Great! Data is loaded\")"
   ]
  },
  {
   "cell_type": "markdown",
   "metadata": {},
   "source": [
    "Next, run the following cell to print out the attributes"
   ]
  },
  {
   "cell_type": "code",
   "execution_count": null,
   "metadata": {},
   "outputs": [],
   "source": [
    "for x in dataDict.fieldnames:\n",
    "    print(x)"
   ]
  },
  {
   "cell_type": "markdown",
   "metadata": {},
   "source": [
    "Here's what all of these mean.  Everything is calculated at the time of the survey, which was in the year 2000. \n",
    "\n",
    "\n",
    "**Here are the most important ones for our purposes:**\n",
    "\n",
    "* country: either \"Turkey\" or \"USA\"\n",
    "* empstat: mother is currently employed (aka, 1 if she is employed, 0 otherwise)\n",
    "* three_or_more: equals 1 if there are three or more children, 0 otherwise\n",
    "* same_sex: equals 1 if first and second child have the same gender, 0 if different gender, and blank if <2 children.\n",
    "* nchild: number of children at the time of the survey\n",
    "\n",
    "**NOTE:** If a women doesn't have two or more children, then the \"same_sex\" variable will be blank.  (We will set it to the Python primitive None below).\n",
    "\n",
    "**And here are a bunch of other variables that might be interesting to look at!**\n",
    "\n",
    "* age: age of the mother\n",
    "* age1-age6: age of the 1st through 6th child in the data\n",
    "* education: mother’s years of education at the time of the survey\n",
    "* low_educ: an indicator for whether the mother has “low” education (the bottom 70% of education in Turkey, and the bottom 73% in the U.S.; in Turkey this is 5 years or less, in the U.S. this is 13 years or less)\n",
    "* married: mother is married\n",
    "* marr_divorce: mother is divorced\n",
    "* marr_separate: mother is separated\n",
    "* marr_single: mother is single\n",
    "* marr_widow:  mother is a widow\n",
    "* sex1-sex6: sex of the first 6 children  (In the original data, \"1\"=male; \"2\"=female; below we'll change that to \"F\" and \"M\" so we don't forget)\n",
    "* spouse_age: age of spouse\n",
    "* spouse_education: spouse years of education\n",
    "* spouse_empstat: spouse is employed (1=employed; 0= not employed)\n",
    "* two_boys: first two children are boys\n",
    "* two_girls: first two children are girls \n",
    "* two_or_more: equals 1 if there are two or more children, 0 otherwise\n",
    "\n",
    "\n",
    "Just like in the last HW assignment, we'll make a list-of-dicts data structure called \"records\" to store our data, and we'll cast the values to be useful types (integers, floats, etc).  Run the following cell to do that.\n",
    "\n",
    "**NOTE: It may take a few minutes for the following cell to run; this data set has over a million observations!  Be patient :)** "
   ]
  },
  {
   "cell_type": "code",
   "execution_count": null,
   "metadata": {},
   "outputs": [],
   "source": [
    "print(\"Please wait...\")\n",
    "records = [ row for row in dataDict ]\n",
    "toRemove = []\n",
    "for i in range(len(records)): # this is a for-loop over the numbers 0, 1, ..., len(records)-1\n",
    "    x = records[i]\n",
    "    for k in x.keys():\n",
    "        if x[\"empstat\"]==\"\":\n",
    "            toRemove.append(i) # get rid of anyone where we don't have employment status\n",
    "        if k in [\"age\", \"age1\", \"age2\", \"age3\", \"age4\", \"age5\", \"age6\", \"empstat\", \"low_educ\", \"married\", \"marr_divorce\", \"marr_separate\", \"marr_single\", \"marr_widow\", \"nchild\", \"same_sex\", \"spouse_age\", \"spouse_empstat\", \"three_or_more\", \"two_boys\", \"two_girls\", \"two_or_more\"]:\n",
    "            if x[k] == \"\":\n",
    "                x[k] = None \n",
    "            else:\n",
    "                x[k] = int(x[k]) # cast the value as an integer\n",
    "        if k in [\"education\",\"spouse_education\"]:\n",
    "            if x[k] == \"\":\n",
    "                x[k] = None\n",
    "            else:\n",
    "                x[k] = float(x[k]) # cast the value as an float\n",
    "        if k in [\"sex1\", \"sex2\", \"sex3\", \"sex4\", \"sex5\", \"sex6\"]:\n",
    "            if x[k] == \"1\":\n",
    "                x[k] = \"M\"\n",
    "            elif x[k] ==\"2\":\n",
    "                x[k] = \"F\"\n",
    "            elif x[k] ==\"\":\n",
    "                x[k] = None\n",
    "\n",
    "toRemove.reverse()\n",
    "for i in toRemove:\n",
    "    records.pop(i)\n",
    "    \n",
    "print(\"...done!\")"
   ]
  },
  {
   "cell_type": "markdown",
   "metadata": {},
   "source": [
    "Now run the following cell to see what an arbitrary person in the dataset looks like.  Take a look and make sure you understand what info we have."
   ]
  },
  {
   "cell_type": "code",
   "execution_count": null,
   "metadata": {},
   "outputs": [],
   "source": [
    "print(\"This is a 25-year-old Turkish woman with 2 children, who is not working:\")\n",
    "for k in records[2].keys():\n",
    "    print(k, \"\\t\", records[2][k])"
   ]
  },
  {
   "cell_type": "markdown",
   "metadata": {},
   "source": [
    "# Part 2: Observational Comparison\n",
    "\n",
    "Before we get into the \"natural experiment,\" let's compute some observational comparisons as a baseline!\n",
    "\n",
    "## Observational Comparison for the US\n",
    "We'll compute how the average employment rate varies when women go from two children to three or more children.  Let's do it first for the US.  Run the following cell to do that:"
   ]
  },
  {
   "cell_type": "code",
   "execution_count": null,
   "metadata": {},
   "outputs": [],
   "source": [
    "## Compute the observational comparison: \n",
    "## how does having 2 vs at least 3 children relate to the employment rate among US women?\n",
    "\n",
    "## Compute the average employment rate among US women with two children\n",
    "US_empl_2child = np.mean( [ x[\"empstat\"] for x in records if (x[\"country\"]==\"USA\" and x[\"nchild\"]==2)])\n",
    "US_empl_3child = np.mean( [ x[\"empstat\"] for x in records if (x[\"country\"]==\"USA\" and x[\"nchild\"]>=3)])\n",
    "\n",
    "print(\"The average employment rate among US women with 2 children is\", US_empl_2child)\n",
    "print(\"The average employment rate among US women with at least 3 children is\", US_empl_3child)\n",
    "print(\"The observational comparison for US women is\", US_empl_3child-US_empl_2child)"
   ]
  },
  {
   "cell_type": "markdown",
   "metadata": {},
   "source": [
    "## <font color=\"red\">TODO: Below, fill in code to compute the observational comparison for Turkey.</font>\n",
    "\n",
    "Do the same thing for Turkey that we just did for the USA.  \n",
    "\n",
    "**Hint:** To do this we need to look at records x with x[\"country\"] equal to \"Turkey\".  It's okay to copy-and-paste the code above and just tweak that!"
   ]
  },
  {
   "cell_type": "code",
   "execution_count": null,
   "metadata": {},
   "outputs": [],
   "source": [
    "## TODO: Compute the observational comparison: \n",
    "## how does having 2 vs least 3 children relate to the employment rate among Turkish women?\n",
    "\n"
   ]
  },
  {
   "cell_type": "markdown",
   "metadata": {},
   "source": [
    "## <font color=\"red\">TODO: What did you find?</font>\n",
    "\n",
    "<font color=\"red\">Double-click this box and and write a paragraph or so about how you would interpret the numbers you just found.  Are you surprised?  Is this expected?  Do you think that the relationship in either the US or Turkey is causal?  if so, why or why not?</font>\n",
    "\n",
    "**ANSWER:** TODO: Fill in here.\n"
   ]
  },
  {
   "cell_type": "markdown",
   "metadata": {},
   "source": [
    "## <font color=\"violet\">Optional TODO: Do some more data analysis to investigate further! </font>\n",
    "\n",
    "\n",
    "<font color=\"violet\">1. OPTIONALLY look at a more nuanced version of the observational comparison above.  What about when women go from 1 to 2 children, or 3 to 4?  More generally, how does the average probability of working vary with the number of children in each country?  It might be interesting to make a graph with number of children on the x-axis and employment rate on the y-axis, for both the US and Turkey.</font>\n",
    "\n",
    "<font color=\"violet\">2. Our data set has tons of other information.  If you said above that the relationship (in either the US or Turkey) might not be causal, OPTIONALLY investigate this by looking at some of this other information.  For example, perhaps you think that age, or being married, or etc, is a confounding variable in the US/Turkish case; look at the data and check if the correlations you see are consistent with that!</font>\n",
    "\n",
    "\n",
    "    \n",
    "**OPTIONAL ANSWER:** TODO: Double-click here and describe what you are going to investigate.\n"
   ]
  },
  {
   "cell_type": "code",
   "execution_count": null,
   "metadata": {},
   "outputs": [],
   "source": [
    "# OPTIONAL: Write some code here to investigate.\n"
   ]
  },
  {
   "cell_type": "markdown",
   "metadata": {},
   "source": [
    "**OPTIONAL ANSWER:** TODO: Double-click this cell to describe in words what you found above.\n"
   ]
  },
  {
   "cell_type": "markdown",
   "metadata": {},
   "source": [
    "# Part 3: Natural Experiment\n",
    "\n",
    "We will break our analysis of the natural experiment into five parts:\n",
    "\n",
    "* **Part 3a:** Is our instrumental variable good?  That is, is it the case that whether or not women have same-sex or different-sex first two children seems pretty random? \n",
    "* **Part 3b:** What is the \"effect\" of same-sex vs different-sex first-two-children on the decision to have a third child?\n",
    "* **Part 3c:** What is the \"effect\" of same-sex vs different-sex first-two-children on whether or not a woman is working?\n",
    "* **Part 3d:** Computing the LATE for this natural experiment.\n",
    "* **Part 3e:** What population does the LATE apply to?"
   ]
  },
  {
   "cell_type": "markdown",
   "metadata": {},
   "source": [
    "## Part 3a: Is our Instrumental Variable Good?\n",
    "\n",
    "We think that whether or not a woman has two same-sex or two different-sex children as her first two children is pretty random.  To sanity-check this, we can check to see if things look approximately balanced between the treatment and control groups.\n",
    "\n",
    "We'll do it first for age below, in the US.  Then you'll do it for age in Turkey, and optionally a few more variables of your choosing."
   ]
  },
  {
   "cell_type": "code",
   "execution_count": null,
   "metadata": {},
   "outputs": [],
   "source": [
    "US_treatment_age_mean = np.mean( [ x[\"age\"] for x in records if (x[\"country\"]==\"USA\" and x[\"same_sex\"]==1)]) \n",
    "US_control_age_mean = np.mean( [ x[\"age\"] for x in records if (x[\"country\"]==\"USA\" and x[\"same_sex\"]==0)]) \n",
    "\n",
    "print(\"Average age among US women whose first two children were same-sex:\\t\", US_treatment_age_mean)\n",
    "print(\"Average age among US women whose first two children were not same-sex:\\t\", US_control_age_mean)"
   ]
  },
  {
   "cell_type": "markdown",
   "metadata": {},
   "source": [
    "### <font color=\"red\"> TODO: Repeat the above for Turkish population. </font>\n",
    "\n",
    "Hint: It's okay to copy-paste -- you just need to change the \"country\" variable to be \"Turkey\"."
   ]
  },
  {
   "cell_type": "code",
   "execution_count": null,
   "metadata": {},
   "outputs": [],
   "source": [
    "# TODO: repeat the above for Turkish women. \n"
   ]
  },
  {
   "cell_type": "markdown",
   "metadata": {},
   "source": [
    "### <font color=\"violet\"> OPTIONAL TODO: Repeat the above (in both the US and in Turkey) for other variables"
   ]
  },
  {
   "cell_type": "code",
   "execution_count": null,
   "metadata": {},
   "outputs": [],
   "source": [
    "# TODO (optional): repeat the above for other variables in both the US and in Turkey\n"
   ]
  },
  {
   "cell_type": "markdown",
   "metadata": {},
   "source": [
    "### <font color=\"red\"> TODO: What is your take-away?  Does this instrumental variable seem pretty \"random\"? </font>\n",
    "\n",
    "<font color=\"red\">Double-click this cell and write in your answer. </font>\n",
    "\n",
    "**ANSWER:** TODO"
   ]
  },
  {
   "cell_type": "markdown",
   "metadata": {},
   "source": [
    "## Part 3b: Effect of same-sex vs different-sex on having a third child.\n",
    "\n",
    "In both the US and the Turkish population, compute the observational comparison of having two same-sex children on having a third child.  We'll do it first for the US population."
   ]
  },
  {
   "cell_type": "code",
   "execution_count": null,
   "metadata": {},
   "outputs": [],
   "source": [
    "US_treatment_mean = np.mean( [ x[\"three_or_more\"] for x in records if (x[\"country\"]==\"USA\" and x[\"same_sex\"]==1)]) \n",
    "US_control_mean = np.mean( [ x[\"three_or_more\"] for x in records if (x[\"country\"]==\"USA\" and x[\"same_sex\"]==0)]) \n",
    "US_effect_on_3ormore = US_treatment_mean - US_control_mean\n",
    "\n",
    "print(\"In the US:\")\n",
    "print(\"\\t Fraction of treatment group with at least 3 children:\", US_treatment_mean)\n",
    "print(\"\\t Fraction of control group with at least 3 children:\", US_control_mean)\n",
    "print(\"\\t Effect of treatment on having at least 3 children:\", US_effect_on_3ormore)"
   ]
  },
  {
   "cell_type": "markdown",
   "metadata": {},
   "source": [
    "### <font color=\"red\">TODO: Do the same for the Turkish population.</font>"
   ]
  },
  {
   "cell_type": "code",
   "execution_count": null,
   "metadata": {},
   "outputs": [],
   "source": [
    "# TODO: Compute the observational effect of having the first two children\n",
    "# same-sex on having a third child, among Turkish women.\n"
   ]
  },
  {
   "cell_type": "markdown",
   "metadata": {},
   "source": [
    "### <font color=\"red\">TODO: Interpret your answers!  That is, write a **sentence or two** (understandable by a non-technical person) which explains what the numbers you computed mean.\n",
    "\n",
    "**ANSWER:** TODO: double-click this cell and fill in.\n"
   ]
  },
  {
   "cell_type": "markdown",
   "metadata": {},
   "source": [
    "## Part 3c: Effect of same-sex vs different-sex on whether or not a woman works\n",
    "\n",
    "### <font color=\"red\">TODO: Write code to do exactly the same thing as above, except the outcome that we are interested in is whether a woman is working at the time of the census (the \"empstat\" variable), not whether she had at least 3 children. </font>\n",
    "\n",
    "**Hint:** Modify the code you had above."
   ]
  },
  {
   "cell_type": "code",
   "execution_count": null,
   "metadata": {},
   "outputs": [],
   "source": [
    "## TODO: Find the effect of same_sex on whether or not a woman works, in both the US and Turkish populations\n"
   ]
  },
  {
   "cell_type": "markdown",
   "metadata": {},
   "source": [
    "## Part 3d: Computing the Local Average Treatment Effect (LATE) for this \"experiment\"\n",
    "\n",
    "Recall that for this natural experiment, our \"treatment\" group is women with at least two children whose first two children are same sex (that is, the value of \"same_sex\" is 1), and the \"control group\" is women with at least two children, whose first two children are different sex (that is, the value of \"same_sex\" is 0).\n",
    "\n",
    "The outcome that we are interested in is whether or not the woman is working (the value of \"empstat\").\n",
    "\n",
    "### <font color=\"red\">TODO: Write code below to compute the LATE for this natural experiment, to estimate the effect of a third child on the probability that a woman will work, in both the US and Turkish populations.</font>\n",
    "\n",
    "<font color=\"red\">**Hint:** Recall that we compute the LATE by dividing one thing by another thing (what are they?) -- we've already computed both of these things above! </font>"
   ]
  },
  {
   "cell_type": "code",
   "execution_count": null,
   "metadata": {},
   "outputs": [],
   "source": [
    "## TODO: Write code to compute the LATE in the US population:\n"
   ]
  },
  {
   "cell_type": "markdown",
   "metadata": {},
   "source": [
    "### <font color=\"red\">TODO: Double-click on this cell and answer the following questions:</font>\n",
    "    \n",
    "1. Use these numbers in a sentence to give them an interpretation.  In particular, if you believe that this natural experiment is valid, what do you conclude about the effect of having more children on women's labor supply, in the US and in Turkey?\n",
    "\n",
    "**ANSWER:** TODO\n",
    "\n",
    "\n",
    "2. How do these numbers compare to the numbers you got for the observational comparison in Part 2?  If they are qualitatively different, do you have any thoughts about why that is?\n",
    "\n",
    "**ANSWER:** TODO\n"
   ]
  },
  {
   "cell_type": "markdown",
   "metadata": {},
   "source": [
    "## Part 3e: What's the population?\n",
    "\n",
    "Recall that the LATE only computes the average treatment effect among a particular population, that of *compliers*.  You've already thought in Part 0 about what it means to be a \"complier\" in this setting.  But now we can explore who the compliers are, and what characteristics they have, in a bit more detail.\n",
    "\n",
    "First, let's estimate how many compliers there are.\n",
    "\n",
    "Recall that, if we assume monotonicity (that is, that there are no defiers), anyone in the control group (aka, anyone who had two different-sex children), but **did** have a third child must be an \"always-taker.\"  Let's compute the number of always-takers in the control group, in the US:"
   ]
  },
  {
   "cell_type": "code",
   "execution_count": null,
   "metadata": {},
   "outputs": [],
   "source": [
    "# number of always takers in control group\n",
    "num_AT_control = sum([x[\"three_or_more\"] for x in records if (x[\"same_sex\"]==0 and x[\"country\"] == \"USA\")])\n",
    "print(\"The number of Always-Takers in the US control group is\", num_AT_control)\n",
    "\n",
    "print(\"ASSUMPTION: The number of Always-Takers in the US treatment group is about the same, because sex of children is about 50/50.\")"
   ]
  },
  {
   "cell_type": "markdown",
   "metadata": {},
   "source": [
    "Next, we can compute the number of people in the treatment group (in the US) who did have a third child.  Recall that these folks are either \"compliers\" or \"always-takers\"."
   ]
  },
  {
   "cell_type": "code",
   "execution_count": null,
   "metadata": {},
   "outputs": [],
   "source": [
    "# number of folks in treatment group who had a third child\n",
    "num_treat_3orMore = sum([x[\"three_or_more\"] for x in records if (x[\"same_sex\"]==1 and x[\"country\"] == \"USA\")])\n",
    "print(\"The number of people in the US treatment group with 3 or more children is\", num_treat_3orMore)"
   ]
  },
  {
   "cell_type": "markdown",
   "metadata": {},
   "source": [
    "Finally, let's compute the number of people in the treatment group total (in the US), for comparison:"
   ]
  },
  {
   "cell_type": "code",
   "execution_count": null,
   "metadata": {},
   "outputs": [],
   "source": [
    "# number of folks in treatment group\n",
    "num_treat = sum([1 for x in records if (x[\"same_sex\"]==1 and x[\"country\"] == \"USA\")])\n",
    "print(\"The number of people in the US treatment group is\", num_treat)"
   ]
  },
  {
   "cell_type": "markdown",
   "metadata": {},
   "source": [
    "### <font color=\"red\"> TODO: combine two of the three numbers we just computed (how?) to estimate the number of compliers in the treatment group. </font>\n",
    "\n",
    "**Assumptions:** You may assume that the treatment group is exactly half the population, and that people are indeed randomly assigned to the treatment group.  (You should also assume that there are no \"defiers\").\n",
    "\n",
    "**Hint:** We did something very similar to this towards the end of Class 3."
   ]
  },
  {
   "cell_type": "code",
   "execution_count": null,
   "metadata": {},
   "outputs": [],
   "source": [
    "## TODO: Write code to compute the number of compliers in the treatment group ,\n",
    "## and print out your answer. (Making the assumptions above).\n"
   ]
  },
  {
   "cell_type": "markdown",
   "metadata": {},
   "source": [
    "### <font color=\"red\"> TODO: Is this a big population? </font>\n",
    "\n",
    "<font color=\"red\">Double click on this cell and answer the following question: The LATE is computing the average treatment effect for a particular population, call it P.  On the other hand, the natural experiment is looking at a larger population, call it S, the population of women with at least two children.  Answer the following questions:\n",
    "1. In the US data, approximately what fraction of folks in S are contained in P?  \n",
    "2. Does this seem \"big\" or \"small\" to you?  \n",
    "3. What does this fraction make you think about the LATE estimate you computed above?\n",
    " </font>\n",
    " \n",
    "**Hint:** You've already computed all of the numbers you need to answer Question 1, although you may need to combine them.  (You can use the code cell below as scratch space if you want to do a computation).\n",
    "\n",
    "**ANSWER:** \n",
    "1. TODO\n",
    "2. TODO\n",
    "3. TODO\n"
   ]
  },
  {
   "cell_type": "code",
   "execution_count": null,
   "metadata": {},
   "outputs": [],
   "source": [
    "# TODO: put any computations for your answer above here.\n"
   ]
  },
  {
   "cell_type": "markdown",
   "metadata": {},
   "source": [
    "# <font color=\"violet\"> EVERYTHING FROM HERE ON IS OPTIONAL </font>\n",
    "\n",
    "<font color=\"violet\">\n",
    "Below, we include a few more optional parts in case you want to investigate more about what the group of compliers look like.</font>\n",
    "\n",
    "\n",
    "### OPTIONAL PART: Next question: among the population of compliers in the treatment group, how likely are these women to work?\n",
    "\n",
    "#### (In particular, is the LATE that you computed a lot or a little relative to this mean?)\n",
    "\n",
    "In Class 3, we asked this question, and we saw how we could answer it by combining the following building blocks:\n",
    "1. Employment rate among always-takers\n",
    "2. Employment rate among folks in the treatment group who had a third child\n",
    "3. The numbers we computed above.\n",
    "\n",
    "Below, we'll compute 1 and 2."
   ]
  },
  {
   "cell_type": "code",
   "execution_count": null,
   "metadata": {},
   "outputs": [],
   "source": [
    "emp_AT = np.mean( [ x[\"empstat\"] for x in records if (x[\"country\"]==\"USA\" and x[\"same_sex\"]==0 and x[\"three_or_more\"]==1) ])\n",
    "emp_treat_3child = np.mean( [ x[\"empstat\"] for x in records if (x[\"country\"]==\"USA\" and x[\"same_sex\"]==1 and x[\"three_or_more\"]==1) ])\n",
    "\n",
    "print(\"Thing 1: the employment rate among always-takers is approximately\", emp_AT)\n",
    "print(\"Thing 2: the employment rate among folks in treatment group who had a third child is approximately\", emp_treat_3child)\n"
   ]
  },
  {
   "cell_type": "markdown",
   "metadata": {},
   "source": [
    "### <font color=\"violet\"> OPTIONAL TODO: More complier analysis! </font>\n",
    "\n",
    "<font color=\"violet\"> Figure out how to combine all the of the numbers we've computed above to estimate the average employment rate among compliers in the treatment group.  Explain here what the computation is that you will do, and why.  Then in the next cell, do the computation!\n",
    " </font>\n",
    "\n",
    "**(optional) ANSWER:** TODO (optionally)\n"
   ]
  },
  {
   "cell_type": "code",
   "execution_count": null,
   "metadata": {},
   "outputs": [],
   "source": [
    "## OPTIONAL TODO: Write the code that you described above, \n",
    "## and print out the average employment rate of compliers in the treatment group. \n"
   ]
  },
  {
   "cell_type": "markdown",
   "metadata": {},
   "source": [
    "Based on your answer above, do you think that the effect that you found is \"big\" or \"small\"?  Does the employment rate among compliers in the treatment group look like the employment rate among the general population in the treatment group?\n",
    "\n",
    "**(optional) ANSWER CONTINUED:**\n"
   ]
  },
  {
   "cell_type": "markdown",
   "metadata": {},
   "source": [
    "### ANOTHER OPTIONAL PART: Do the same thing for the Turkish data.\n",
    "\n",
    "Above, we analyzed the compliers just for the US Data.  It's natural to ask if things look the same in the Turkish data!"
   ]
  },
  {
   "cell_type": "markdown",
   "metadata": {},
   "source": [
    "### <font color=\"violet\"> OPTIONAL TODO: Do the complier analysis we did above, but for the Turkish data </font> \n",
    "\n",
    "<font color=\"violet\"> Use the box below to enter code, and put your conclusions in this box below by double-clicking on this cell.</font>\n",
    "\n",
    "**OPTIONAL ANSWER:** (Optional TODO)\n"
   ]
  },
  {
   "cell_type": "code",
   "execution_count": null,
   "metadata": {},
   "outputs": [],
   "source": [
    "## Optional TODO: Code for analyzing the fraction of population captured by the Turkish LATE goes here.\n"
   ]
  },
  {
   "cell_type": "markdown",
   "metadata": {},
   "source": [
    "### <font color=\"violet\">OPTIONAL TODO: What else can you say about the compliers?</font>\n",
    "\n",
    "<font color=\"violet\">In class, we saw how we can estimate summary statistics (e.g., average education; average age; etc) among the population of compliers.  Do that here too and see what you get!  How does it compare to the population in the experiment (eg, those with at least 2 children)?  How does it compare to the general population in the dataset?</font>\n",
    "\n",
    "**ANSWER:** Fill in as much as you want below!  (This is all optional)"
   ]
  },
  {
   "cell_type": "code",
   "execution_count": null,
   "metadata": {},
   "outputs": [],
   "source": [
    "# TODO (Optional): Write code to support the Optional TODO above.\n"
   ]
  }
 ],
 "metadata": {
  "kernelspec": {
   "display_name": "Python 3",
   "language": "python",
   "name": "python3"
  },
  "language_info": {
   "codemirror_mode": {
    "name": "ipython",
    "version": 3
   },
   "file_extension": ".py",
   "mimetype": "text/x-python",
   "name": "python",
   "nbconvert_exporter": "python",
   "pygments_lexer": "ipython3",
   "version": "3.7.6"
  }
 },
 "nbformat": 4,
 "nbformat_minor": 4
}
