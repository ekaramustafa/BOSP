{
 "cells": [
  {
   "cell_type": "code",
   "execution_count": 2,
   "id": "e2621bb5",
   "metadata": {},
   "outputs": [],
   "source": [
    "import csv\n",
    "datafile = open('week_1.csv',newline='')\n",
    "dataDict = csv.DictReader(datafile,delimiter=',')"
   ]
  },
  {
   "cell_type": "code",
   "execution_count": 3,
   "id": "25437f20",
   "metadata": {},
   "outputs": [
    {
     "data": {
      "text/plain": [
       "['indiv_id',\n",
       " 'F_income90',\n",
       " 'F_attn_sm_college',\n",
       " 'income00',\n",
       " 'attn_sm_college',\n",
       " 'age',\n",
       " 'male',\n",
       " 'female',\n",
       " 'white',\n",
       " 'black',\n",
       " 'other',\n",
       " 'married',\n",
       " 'num_siblings',\n",
       " 'birth_weight']"
      ]
     },
     "execution_count": 3,
     "metadata": {},
     "output_type": "execute_result"
    }
   ],
   "source": [
    "dataDict.fieldnames"
   ]
  },
  {
   "cell_type": "code",
   "execution_count": 4,
   "id": "6f2d8a92",
   "metadata": {},
   "outputs": [],
   "source": [
    "#list of dictionaries\n",
    "records = [row for row in dataDict]"
   ]
  },
  {
   "cell_type": "code",
   "execution_count": 5,
   "id": "1a309141",
   "metadata": {},
   "outputs": [],
   "source": [
    "#siblings count\n",
    "#college count"
   ]
  },
  {
   "cell_type": "code",
   "execution_count": 16,
   "id": "bd96b9b8",
   "metadata": {},
   "outputs": [],
   "source": [
    "collegeCount = sum(int(record['attn_sm_college']) for record in records)     "
   ]
  },
  {
   "cell_type": "code",
   "execution_count": 17,
   "id": "b171da5c",
   "metadata": {},
   "outputs": [
    {
     "data": {
      "text/plain": [
       "381"
      ]
     },
     "execution_count": 17,
     "metadata": {},
     "output_type": "execute_result"
    }
   ],
   "source": [
    "collegeCount"
   ]
  },
  {
   "cell_type": "code",
   "execution_count": 1,
   "id": "b7dd4377",
   "metadata": {},
   "outputs": [
    {
     "ename": "SyntaxError",
     "evalue": "invalid syntax (1399944185.py, line 6)",
     "output_type": "error",
     "traceback": [
      "\u001b[1;36m  Cell \u001b[1;32mIn[1], line 6\u001b[1;36m\u001b[0m\n\u001b[1;33m    plt.\u001b[0m\n\u001b[1;37m        ^\u001b[0m\n\u001b[1;31mSyntaxError\u001b[0m\u001b[1;31m:\u001b[0m invalid syntax\n"
     ]
    }
   ],
   "source": [
    "num_siblings_list = [float(record['num_siblings']) for record in records]\n",
    "income_list = [float(record['income00']) for record in records]\n",
    "plt.ylim(-1000,250000)\n",
    "plt.scatter(num_siblings_list,income_list)\n",
    "plt.ylabel(\"Income\")\n",
    "plt.\n",
    "plt.xlabel(\"# of siblings\")\n",
    "plt.show()"
   ]
  },
  {
   "cell_type": "code",
   "execution_count": null,
   "id": "9b7995b0",
   "metadata": {},
   "outputs": [],
   "source": []
  }
 ],
 "metadata": {
  "kernelspec": {
   "display_name": "Python 3 (ipykernel)",
   "language": "python",
   "name": "python3"
  },
  "language_info": {
   "codemirror_mode": {
    "name": "ipython",
    "version": 3
   },
   "file_extension": ".py",
   "mimetype": "text/x-python",
   "name": "python",
   "nbconvert_exporter": "python",
   "pygments_lexer": "ipython3",
   "version": "3.8.0"
  }
 },
 "nbformat": 4,
 "nbformat_minor": 5
}
