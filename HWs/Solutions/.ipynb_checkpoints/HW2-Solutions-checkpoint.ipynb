{
 "cells": [
  {
   "cell_type": "markdown",
   "metadata": {},
   "source": [
    "# Homework 2!  Do we really need an RCT?\n",
    "\n",
    "*Due Tuesday October 17, before class (on Blackboard).  Please hand in just your completed Jupyter notebook as a .ipynb file.*"
   ]
  },
  {
   "cell_type": "markdown",
   "metadata": {},
   "source": [
    "## Overview\n",
    "\n",
    "In class, we talked about RCTs, and why they can help establish causality.  Intuitively, one of the reasons is that an RCT can give us a \"treatment group\" and a \"control group\" with roughly the same characteristics, except for the variable of interest.  That is, we don't worry about \"confounding variables\" because each such variable looks the same in both the treatment and the control group.  \n",
    "\n",
    "In that view, it's natural to wonder if we really *need* an RCT to do this.  Can we use observational data, and find a set A of folks who received the treatment, and a set B of folks who didn't, so that A and B look roughly the same with respect to all of the characteristics we can measure?  Would that approximate the results of an RCT?\n",
    "\n",
    "In this HW, you'll explore this idea, following a classic paper in economics (Lalonde (1986) -- see below for full citation), about an employment program.  You'll look at data from an RCT, and see if you can replicate the results of the RCT by following the strategy above on observational data.\n",
    "\n",
    "For context, this paper was extremely influential in the social science literature, and is one of the reasons that current practice emphasizes the importance of RCTs and approximations of them."
   ]
  },
  {
   "cell_type": "markdown",
   "metadata": {},
   "source": [
    "## About the data\n",
    "\n",
    "As mentioned above, we'll give you data from **two** sources.  One of them is an RCT that was designed to measure the effect of the National Supported Work (NSW) program in the US, which we describe next.\n",
    "\n",
    "### The National Supported Work (NSW) demonstration program.\n",
    "\n",
    "**What did the program do?** The National Supported Work (NSW) demonstration program was a temporary employment program designed to help disadvantaged workers giving them work experience and shelter. This program was run in the US in the late 1970s.  The program provided trainees with work in a sheltered training environment and then assisted them in finding regular jobs.  In more detail, the treatment consistent of a guaranteed job for 9 to 18 months, and the ability to meet with a program counselor regularly to discuss grievances and performance.  An example job would be working at a gas station or a printing shop; the program paid employers to subsidize the employment of the participants.\n",
    "\n",
    "**Who was eligible for the program?** Our dataset includes three target groups selected for inclusion into the program.  (There were more groups targeted by the program, we focus on these three for simplicity): (1) former drug addicts; (2) ex-offenders (that is, people who were convicted of a crime); and (3) young school dropouts. The point was to identify individuals with strong barriers to finding a job.  Note that everyone in our dataset identifies as male.\n",
    "\n",
    "The main criteria were (1) the person must have been currently unemployed (defined as having worked no more than 40 hours in the 4 weeks preceding the time of selection into the program), and (2) the person must have spent no more than 3 months on one regular job of at least 20 hours per week during the preceding 6 months. The program was voluntary, and participants constituted a tiny fraction of the eligible population, implying substantial scope for nonrandom selection into the program.\n",
    " \n",
    "### The RCT data\n",
    "\n",
    "The US government did a randomized control trial as part of NSW.  This data includes a treatment group and a control group, both of whom come from the three groups mentioned above, targeted by the NSW program.\n",
    "\n",
    "### The \"non-experimental\" data\n",
    "\n",
    "In order to get at the question of \"Do we really need an RCT?\", subsequent researchers have tried to build non-experimental \"control groups\" from observational data.  That is, they looked at people who *weren't* in the NSW program using data from the PSID (Panel Study of Income Dynamics -- we used this data in HW1 as well), and tried to build a \"control group\" who matched the characteristics of the participants in the NSW program.\n",
    "\n",
    "**Baseline non-experimental \"control\" group.** As a baseline, let's not try to do anything fancy.  This first non-experimental \"control\" group is drawn from the PSID without paying any attention to whether or not their characteristics match the treatment group from the RCT.  It's just a representative sample of folks in the PSID from the same time (1975-1978) as the NSW program ran.\n",
    "\n",
    "**Actual non-experimental \"control\" group.** This second non-experimental \"control\" group is also drawn from the PSID, but it is chosen to try to \"match\" the characteristics to the treatment group from the RCT.  This group was generated by LaLonde (1986), and was his best attempt at matching the characteristics from the treatment group by taking a subset of the PSID.  \n",
    "\n",
    "\n",
    "## References\n",
    "\n",
    "You don't have to look at these, but if you are curious, here are some references.  The PDFs are all in the folder \"Optional Reading\" associated with this assignment.\n",
    "\n",
    "The first of these is the original paper, whose non-experimental \"control group\" you'll be working with.  The second and third of these use other methods to better construct/analyze \"control\" groups.  The last paper looks at the results on women (in our dataset, we have only men).\n",
    "\n",
    "* Robert J. LaLonde.  \"Evaluating the Econometric Evaluatins of Training Programs with Experimental Data.\"  American Economic Review, September 1986, 76(4): 604-620\n",
    "\n",
    "* Rajeev Dehejia and Sadek Wahba.  \"Causal Effects in Non-Experimental Studies: Reevaluating the Evaluation of Training Programs.\" Journal of the American Statistical Association, 1999, 94(448): 1053-1062.\n",
    "\n",
    "* Rajeev Dehejia and Sadek Wahba.  \"Propensity Score Matching Methods for Non-Experimental Causal Studies.\" Review of Economics and Statistics, 2002, 84: 151-161.\n",
    "\n",
    "* Sebastian Calonico and Jeffrey Smith. \"The Women of the National Supported Work Demonstration.”  Journal of Labor Economics, 2017, 35(S1): S65-S97."
   ]
  },
  {
   "cell_type": "markdown",
   "metadata": {},
   "source": [
    "## Part 0: Understand the overview and form some priors.\n",
    "\n",
    "1. In your own words, summarize the idea above about how we might construct \"non-experimental control groups\" from observational data.  \n",
    "2. Give the best argument you can for why this might help us understand causality (in this case, the effect of the NSW program on future earnings), *without* an RCT.  \n",
    "3. Give the best argument you can for why this approach might *not* work.  What could go wrong?\n",
    "\n",
    "**Optional:** *In **addition** to common-sense language, try to also phrase your answer to problems 2 and 3 in the language/notation from class about selection on treatment and selection on levels.*\n",
    "\n",
    "4. Before you do the rest of the assignment, which do you believe more, your argument in 2 or in 3?  That is, do you think it's a good idea to try to establish causality this way?"
   ]
  },
  {
   "cell_type": "markdown",
   "metadata": {},
   "source": [
    "# <font color='red'>TODO:</font>\n",
    "\n",
    "<font color='red'>Double-click on this box and fill in your answers to 1-4 above.</font>\n",
    "\n",
    "**ANSWER**:\n",
    "1. The idea is that if we can come up with a control group that has the same characteristics as the treatment group (which is what an RCT is trying to do anyway), then we don't need to worry about confounding variables (or selection on treatment/levels).\n",
    "2. If we really could split the sample evenly on every single possible other variable (and every combination of possible other variables...), then this should work because every possible confounding variable would be effectively controlled for.  Using the jargon from class, there would be no \"selection on treatment\" or \"selection on levels,\" because the population that we are taking the expectation operator over would be the same among the treatment and control groups (and the same as the general population).  Thus, the \"first term\" that we looked at in class (the effect of treatment on the treatment group) would just be the ATE; and the \"second term\" that we looked at in class (the expected difference between the untreated levels of the treatment and control group) would just be zero.\n",
    "3. There are several reasons to be concerned:\n",
    "    * We may not be able to identify all the relevant variables.  (For example, maybe the person's favorite flavor of potato chip is really important, and we just didn't think of it).\n",
    "    * We may not have all the relevant variables in our dataset. (For example, maybe we correctly identify that that prison time is really important...but we don't have that data).\n",
    "    * We may not have enough data to split *every* possible group evenly, especially if we take intersectionality into account.  That is, even if our treatment and control groups both have roughly the same distribution of pre-program income; and both have roughly the same racial decomposition; do they have the same *joint* distributions?  That is, do they have about the same number of Black individuals who make 30K USD per year?  There are lots and lots of these \"intersection\" buckets to look at, and we may not be able to construct a dataset that matches everything.\n",
    "4. We are more concerned than hopeful, overall."
   ]
  },
  {
   "cell_type": "markdown",
   "metadata": {},
   "source": [
    "## Part 1: Load the data and look at the variables\n",
    "### We'll also introduce a few new useful Python tricks :)\n",
    "\n",
    "\n",
    "### Part 1a: Load the data.\n",
    "\n",
    "Run the following cell (click Shift+Enter) to load the data."
   ]
  },
  {
   "cell_type": "code",
   "execution_count": 40,
   "metadata": {},
   "outputs": [
    {
     "name": "stdout",
     "output_type": "stream",
     "text": [
      "Great! Data is loaded\n"
     ]
    }
   ],
   "source": [
    "import csv\n",
    "datafile = open('week2.csv', newline='')\n",
    "dataDict = csv.DictReader(datafile, delimiter=\",\")\n",
    "print(\"Great! Data is loaded\")"
   ]
  },
  {
   "cell_type": "markdown",
   "metadata": {},
   "source": [
    "Now run the following cell to print out the variable names:"
   ]
  },
  {
   "cell_type": "code",
   "execution_count": 41,
   "metadata": {},
   "outputs": [
    {
     "name": "stdout",
     "output_type": "stream",
     "text": [
      "treat\n",
      "control\n",
      "nexp1\n",
      "nexp2\n",
      "age\n",
      "education\n",
      "Black\n",
      "Hispanic\n",
      "married\n",
      "nodegree\n",
      "earnings_1975\n",
      "earnings_1978\n"
     ]
    }
   ],
   "source": [
    "for x in dataDict.fieldnames:\n",
    "    print(x)"
   ]
  },
  {
   "cell_type": "markdown",
   "metadata": {},
   "source": [
    "**Here's what each of these variables mean:**\n",
    "* treat: 1 if the subject was in the treatment group of the RCT, 0 otherwise\n",
    "* control: 1 if the subject was in the control group of the RCT, 0 otherwise\n",
    "* nexp1: 1 if the subject was not part of the NSW program, but was included in the first \"non-experimental\" control group.  (And 0 otherwise).\n",
    "* nexp2: Same as nexp1 but for the second \"non-experimental\" control group.\n",
    "* age: subject's age in 1975\n",
    "* education: years of education (as of 1975)\n",
    "* Black: 1 if the subject is Black, 0 otherwise\n",
    "* Hispanic: 1 if the subject is Hispanic, 0 otherwise\n",
    "* married: 1 if the subject was married in 1975\n",
    "* nodegree: 1 if the subject did *not* receive a high school degree (as of 1975) \n",
    "* earnings_1975: earnings (in dollars) in 1975 (Adjusted for inflation to 1982 dollars)\n",
    "* earnings_1978: earnings (in dollars) in 1978 (Adjusted for inflation to 1982 dollars)\n"
   ]
  },
  {
   "cell_type": "markdown",
   "metadata": {},
   "source": [
    "**Just like we did last time,** let's make a list-of-dicts datastructure to hold our dataset.  We'll call it \"records\", just like last time."
   ]
  },
  {
   "cell_type": "code",
   "execution_count": 42,
   "metadata": {},
   "outputs": [],
   "source": [
    "records = [ row for row in dataDict ]"
   ]
  },
  {
   "cell_type": "markdown",
   "metadata": {},
   "source": [
    "**New Python Trick!** Last time, we noticed that all of the \"numbers\" were actually strings, so we had to cast them to integers or floats whenever we wanted to use them.  This time, let's make our lives easier by just changing everything to the right type to begin with.  Run the following cell, and try to understand what the Python is doing.  **NOTE: because we are doing this, we don't need to worry about doing things like int() or float() later on!**"
   ]
  },
  {
   "cell_type": "code",
   "execution_count": 43,
   "metadata": {},
   "outputs": [],
   "source": [
    "for i in range(len(records)): # this is a for-loop over the numbers 0, 1, ..., len(records)-1\n",
    "    x = records[i]\n",
    "    for k in x.keys():\n",
    "        if k in [\"treat\", \"control\", \"nexp1\", \"nexp2\", \"Black\", \"Hispanic\", \"married\", \"nodegree\", \"age\", \"education\"]:\n",
    "            x[k] = int(x[k]) # cast the value as an integer\n",
    "        if k in [\"earnings_1975\", \"earnings_1978\"]:\n",
    "            x[k] = float(x[k]) # cast the value as a float"
   ]
  },
  {
   "cell_type": "markdown",
   "metadata": {},
   "source": [
    "### Part 1b: Start looking at the data, and compute some summary statistics.\n",
    "(Just to make sure we understand what the data looks like)\n",
    "\n",
    "To get started, let's look at an arbitrary person in the dataset, and then compute some summary statistics.  You don't have to do anything for this part, just run the cells and make sure you understand what the Python code is doing.  \n"
   ]
  },
  {
   "cell_type": "code",
   "execution_count": 63,
   "metadata": {},
   "outputs": [
    {
     "name": "stdout",
     "output_type": "stream",
     "text": [
      "Here's someone!\n",
      "treat\t\t0\n",
      "control\t\t1\n",
      "nexp1\t\t0\n",
      "nexp2\t\t0\n",
      "age\t\t20\n",
      "education\t\t13\n",
      "Black\t\t1\n",
      "Hispanic\t\t0\n",
      "married\t\t0\n",
      "nodegree\t\t0\n",
      "earnings_1975\t\t8965.243\n",
      "earnings_1978\t\t9199.563\n"
     ]
    }
   ],
   "source": [
    "## Print out an arbitary person:\n",
    "arbPerson = records[10]\n",
    "print(\"Here's someone!\")\n",
    "for key in arbPerson:\n",
    "    print(key + \"\\t\\t\" + str(arbPerson[key]))"
   ]
  },
  {
   "cell_type": "markdown",
   "metadata": {},
   "source": [
    "Let's look at some summary statistics about earnings in 1975 and 1978.\n",
    "\n",
    "**New Python Trick!**  Below, we are using the numpy package to compute means, instead of having to use sum() and then divide."
   ]
  },
  {
   "cell_type": "code",
   "execution_count": 73,
   "metadata": {},
   "outputs": [
    {
     "name": "stdout",
     "output_type": "stream",
     "text": [
      "Avg earnings in 1975: 15355.421639158683\n",
      "Avg earnings in 1975: 15491.055916131736\n",
      "std. of earnings in 1975: 13794.970535811543\n",
      "std. of earnings in 1978: 13602.917770589016\n"
     ]
    },
    {
     "data": {
      "image/png": "[encoded data removed]",
      "text/plain": [
       "<Figure size 432x288 with 1 Axes>"
      ]
     },
     "metadata": {
      "needs_background": "light"
     },
     "output_type": "display_data"
    }
   ],
   "source": [
    "import numpy as np\n",
    "\n",
    "## Compute the average earnings in 1975 and 1978.\n",
    "##\n",
    "## NOTE!  We are using np.mean instead of using \"sum\" and dividing by the length\n",
    "## like we did last week.\n",
    "##\n",
    "\n",
    "e75 = [x[\"earnings_1975\"] for x in records]\n",
    "e78 = [x[\"earnings_1978\"] for x in records]\n",
    "\n",
    "print(\"Avg earnings in 1975:\", np.mean(e75))\n",
    "print(\"Avg earnings in 1975:\", np.mean(e78))\n",
    "\n",
    "## We can also print out the STANDARD DEVIATION of earnings in 1975 and 1978\n",
    "## If you haven't seen the standard deviation before, don't worry about it;\n",
    "## intuitively, it is a measure of how \"spread out\" the distribution of earnings is.\n",
    "\n",
    "print(\"std. of earnings in 1975:\", np.std(e75))\n",
    "print(\"std. of earnings in 1978:\", np.std(e78))\n",
    "\n",
    "## Plot the histogram of earnings in 1975 and 1978:\n",
    "from matplotlib import pyplot as plt\n",
    "plt.hist([e75, e78], label=[\"Earnings 1975\", \"Earnings 1978\"])\n",
    "plt.legend(loc='upper right')\n",
    "plt.show()"
   ]
  },
  {
   "cell_type": "markdown",
   "metadata": {},
   "source": [
    "Next let's look at 1975 and 1978 earnings among just Hispanic individuals.\n",
    "\n",
    "**New Python Trick!** Here we are using a fancier version of a list-comprehension, where we have an \"if\" statement in it to pick out the Hispanic variable.  We'll do the basic for-loop approach first, and then see the slicker version."
   ]
  },
  {
   "cell_type": "code",
   "execution_count": 74,
   "metadata": {},
   "outputs": [
    {
     "name": "stdout",
     "output_type": "stream",
     "text": [
      "Avg. Hisp. earnings in 1975: 10674.7700491279\n",
      "Avg. Hisp. earnings in 1978: 10595.511083720921\n",
      "AGAIN WITH A LIST COMPREHENSION\n",
      "Avg. Hisp. earnings in 1975: 10674.770049127905\n",
      "Avg. Hisp. earnings in 1978: 10595.51108372093\n"
     ]
    }
   ],
   "source": [
    "## Compute the average earnings among Hispanic subjects in 1975 and 1978.\n",
    "\n",
    "##########\n",
    "#\n",
    "# Here's the way to do it with basic Python and a for-loop:\n",
    "#\n",
    "##########\n",
    "\n",
    "sum_earn_1975_hisp = 0\n",
    "sum_earn_1978_hisp = 0\n",
    "num_hisp = 0\n",
    "for x in records:\n",
    "    if x[\"Hispanic\"]:\n",
    "        sum_earn_1975_hisp += x[\"earnings_1975\"] # the \"+=\" notation means that we add that amount\n",
    "        sum_earn_1978_hisp += x[\"earnings_1978\"]\n",
    "        num_hisp += 1\n",
    "print(\"Avg. Hisp. earnings in 1975:\", sum_earn_1975_hisp/num_hisp)\n",
    "print(\"Avg. Hisp. earnings in 1978:\", sum_earn_1978_hisp/num_hisp)\n",
    "\n",
    "##########\n",
    "#\n",
    "#   Here's another way to do the same computation with a slightly fancier version \n",
    "#   of a list comprehension than we saw in HW1.  This version puts in an \"if\" \n",
    "#   statement at the end of the link to pick out the Hispanic folks.\n",
    "#   Slick!\n",
    "#\n",
    "######\n",
    "\n",
    "print(\"AGAIN WITH A LIST COMPREHENSION\")\n",
    "earn_1975_hisp = [x[\"earnings_1975\"] for x in records if x[\"Hispanic\"] ]\n",
    "earn_1978_hisp = [x[\"earnings_1978\"] for x in records if x[\"Hispanic\"] ]\n",
    "\n",
    "print(\"Avg. Hisp. earnings in 1975:\", np.mean(earn_1975_hisp))\n",
    "print(\"Avg. Hisp. earnings in 1978:\", np.mean(earn_1978_hisp))"
   ]
  },
  {
   "cell_type": "markdown",
   "metadata": {},
   "source": [
    "# Part 2: The RCT\n",
    "\n",
    "### Part 2a: What is the outcome of the RCT?\n",
    "\n",
    "Compute the **average treatment effect** of: \n",
    "1. The NSW program on earnings in 1978, as measured by the RCT.  \n",
    "2. The NSW program on the **gain** in earnings, as measured by the RCT.  That is, the variable you are interested in is the difference: [earnings in 1978] - [earnings in 1975].\n",
    "\n",
    "Remember, you want to use folks with the \"treat\" variable set to \"1\" for the treatment; and folks with the \"control\" variable set to \"1\" for the control.\n",
    "\n",
    "**Tip:** Try writing down first what it is you want to compute.  Once you know that, you may want to take a look at the examples above for templates of how to do these sorts of computations in Python."
   ]
  },
  {
   "cell_type": "markdown",
   "metadata": {},
   "source": [
    "## <font color=\"red\">TODO:</font>\n",
    "\n",
    "<font color=\"red\">Write code below to compute the ATEs 1 and 2 above, according to the RCT, and print out statements like:  </font> \n",
    "\n",
    "1. <font color=\"red\"> \"The ATE of NSW on earnings in 1978 is: _____\"</font>\n",
    "2. <font color=\"red\"> \"The ATE of NSW on earning gains from 1975 to 1978 is: _____\"</font>\n",
    "     \n",
    " "
   ]
  },
  {
   "cell_type": "code",
   "execution_count": 99,
   "metadata": {},
   "outputs": [
    {
     "name": "stdout",
     "output_type": "stream",
     "text": [
      "The ATE on earnings_1978 is 886.3037307037466\n",
      "The ATE on earnings_gain is 846.8882866857612\n"
     ]
    }
   ],
   "source": [
    "## TODO: Enter your code here.\n",
    "\n",
    "treat_e78 = [x[\"earnings_1978\"] for x in records if x[\"treat\"]]\n",
    "control_e78 = [x[\"earnings_1978\"] for x in records if x[\"control\"]]\n",
    "\n",
    "print(\"The ATE on earnings_1978 is\", sum(treat_e78)/len(treat_e78) - sum(control_e78)/len(control_e78))\n",
    "\n",
    "treat_d78 = [x[\"earnings_1978\"]-x[\"earnings_1975\"] for x in records if x[\"treat\"]]\n",
    "control_d78 = [x[\"earnings_1978\"]-x[\"earnings_1975\"] for x in records if x[\"control\"]]\n",
    "\n",
    "print(\"The ATE on earnings_gain is\", sum(treat_d78)/len(treat_d78) - sum(control_d78)/len(control_d78))\n"
   ]
  },
  {
   "cell_type": "markdown",
   "metadata": {},
   "source": [
    "<font color=\"red\">**OPTIONAL**</font>: Interpret the above numbers.  Are these effects big or small?  Is there anything interesting about the two numbers that you got?  Double-click the cell below and enter your thoughts."
   ]
  },
  {
   "cell_type": "markdown",
   "metadata": {},
   "source": [
    "**OPTIONAL ANSWER:** Your thoughts here.\n",
    "\n",
    "*I think these effects are fairly large, since as we'll compute below, the average income among the RCT participants is about 3000 USD per year.  So 886 is a pretty big fraction of that.*\n",
    "\n",
    "*Moreover, it's interesting that the ATE on 1978 earnings and on earnings gains are quite close.  This is driven by the fact that the 1975 earnings between the two groups are approximately the same, which we should expect because the groups are randomized!  Yay randomness!*"
   ]
  },
  {
   "cell_type": "markdown",
   "metadata": {},
   "source": [
    "### Part 2b: Do the treatment and control groups look fairly balanced?\n",
    "\n",
    "Pick a few variables (other than 1978 earnings) and compute the means in the treatment and control group.  Do they look the same?\n",
    "\n",
    "**Optional:** If you look at a variable that takes on more than just 0/1 values (like 1975 earnings, or age, or years of education), find some way of looking at the whole *distribution* across the treatment and the control group (e.g., compute the *standard deviation* [see the example in Part 1 with np.std], or plot the histogram).  Do they look about the same?  \n",
    "\n",
    "**TIP/New Python Trick!** If you plot multiple histograms on the same chart, like we did above, you may want to add the flag \"density=True\" in the arguments of plt.hist.  For example:\n",
    "```\n",
    "plt.hist([myList1, myList2], label=[\"thing1\", \"thing2\"], density=True)\n",
    "\n",
    "```\n",
    "That will normalize the histograms so that you can compare them even if there are a different number of observations in myList1 and myList2. "
   ]
  },
  {
   "cell_type": "markdown",
   "metadata": {},
   "source": [
    "## <font color=\"red\">TODO:</font>\n",
    "\n",
    "<font color=\"red\">Write code below to investigate whether or not the treatment and control groups in the RCT look about the same."
   ]
  },
  {
   "cell_type": "code",
   "execution_count": 93,
   "metadata": {},
   "outputs": [
    {
     "name": "stdout",
     "output_type": "stream",
     "text": [
      "Average 1975 earnings:\n",
      "Treatment:\t 3066.0981867003366\n",
      "Control:\t 3026.682742682353\n",
      "Standard deviation of 1975 earnings:\n",
      "Treatment:\t 4866.675169633762\n",
      "Control:\t 5195.127086297724\n"
     ]
    },
    {
     "data": {
      "image/png": "[encoded data removed]",
      "text/plain": [
       "<Figure size 432x288 with 1 Axes>"
      ]
     },
     "metadata": {
      "needs_background": "light"
     },
     "output_type": "display_data"
    },
    {
     "name": "stdout",
     "output_type": "stream",
     "text": [
      "Average years of education:\n",
      "Treatment:\t 10.38047138047138\n",
      "Control:\t 10.188235294117646\n",
      "Standard deviation of years of education:\n",
      "Treatment:\t 1.814649268137686\n",
      "Control:\t 1.616780516568135\n"
     ]
    },
    {
     "data": {
      "image/png": "[encoded data removed]",
      "text/plain": [
       "<Figure size 432x288 with 1 Axes>"
      ]
     },
     "metadata": {
      "needs_background": "light"
     },
     "output_type": "display_data"
    },
    {
     "name": "stdout",
     "output_type": "stream",
     "text": [
      "Fraction of Black individuals:\n",
      "Treatment:\t 0.8013468013468014\n",
      "Control:\t 0.8\n",
      "Average 1975 earnings among Black individuals:\n",
      "Treatment:\t 2785.916292436975\n",
      "Control:\t 2862.9483501176474\n",
      "Standard deviation of 1975 earnings among Black individuals:\n",
      "Treatment:\t 4746.435608858392\n",
      "Control:\t 4772.207086936872\n"
     ]
    },
    {
     "data": {
      "image/png": "[encoded data removed]",
      "text/plain": [
       "<Figure size 432x288 with 1 Axes>"
      ]
     },
     "metadata": {
      "needs_background": "light"
     },
     "output_type": "display_data"
    }
   ],
   "source": [
    "## TODO: Enter your code here.\n",
    "\n",
    "# First let's look at 1975 earnings.\n",
    "treat_e75 = [x[\"earnings_1975\"] for x in records if x[\"treat\"]]\n",
    "control_e75 = [x[\"earnings_1975\"] for x in records if x[\"control\"]]\n",
    "\n",
    "print(\"Average 1975 earnings:\")\n",
    "print(\"Treatment:\\t\", np.mean(treat_e75))\n",
    "print(\"Control:\\t\", np.mean(control_e75))\n",
    "\n",
    "print(\"Standard deviation of 1975 earnings:\")\n",
    "print(\"Treatment:\\t\", np.std(treat_e75))\n",
    "print(\"Control:\\t\", np.std(control_e75))\n",
    "\n",
    "plt.hist([treat_e75, control_e75], label=[\"Treatment\", \"Control\"], density=True)\n",
    "plt.legend(loc='upper right')\n",
    "plt.show()\n",
    "\n",
    "# Same for education:\n",
    "treat_ed = [x[\"education\"] for x in records if x[\"treat\"]]\n",
    "control_ed = [x[\"education\"] for x in records if x[\"control\"]]\n",
    "\n",
    "print(\"Average years of education:\")\n",
    "print(\"Treatment:\\t\", np.mean(treat_ed))\n",
    "print(\"Control:\\t\", np.mean(control_ed))\n",
    "\n",
    "print(\"Standard deviation of years of education:\")\n",
    "print(\"Treatment:\\t\", np.std(treat_ed))\n",
    "print(\"Control:\\t\", np.std(control_ed))\n",
    "\n",
    "plt.hist([treat_ed, control_ed], label=[\"Treatment\", \"Control\"], density=True)\n",
    "plt.legend(loc='upper right')\n",
    "plt.show()\n",
    "\n",
    "# Also at the fraction of Black individuals in treatment and control\n",
    "treat_Black = [x[\"Black\"] for x in records if x[\"treat\"]]\n",
    "control_Black = [x[\"Black\"] for x in records if x[\"control\"]]\n",
    "\n",
    "print(\"Fraction of Black individuals:\")\n",
    "print(\"Treatment:\\t\", np.mean(treat_Black))\n",
    "print(\"Control:\\t\", np.mean(control_Black))\n",
    "\n",
    "# What if we compare earnings just among Black individuals?\n",
    "treat_e75_B = [x[\"earnings_1975\"] for x in records if x[\"treat\"] and x[\"Black\"]]\n",
    "control_e75_B = [x[\"earnings_1975\"] for x in records if x[\"control\"] and x[\"Black\"]]\n",
    "\n",
    "print(\"Average 1975 earnings among Black individuals:\")\n",
    "print(\"Treatment:\\t\", np.mean(treat_e75_B))\n",
    "print(\"Control:\\t\", np.mean(control_e75_B))\n",
    "\n",
    "print(\"Standard deviation of 1975 earnings among Black individuals:\")\n",
    "print(\"Treatment:\\t\", np.std(treat_e75_B))\n",
    "print(\"Control:\\t\", np.std(control_e75_B))\n",
    "\n",
    "plt.hist([treat_e75_B, control_e75_B], label=[\"Treatment\", \"Control\"], density=True)\n",
    "plt.legend(loc='upper right')\n",
    "plt.show()"
   ]
  },
  {
   "cell_type": "markdown",
   "metadata": {},
   "source": [
    "## <font color=\"red\">TODO:</font>\n",
    "\n",
    "<font color=\"red\">What is your take-away?  Double-click on this box and say whether you think that the RCT did a good job of getting similar-looking control and treatment groups.</font>\n",
    "    \n",
    "**ANSWER**: Everything I computed looks pretty similar.  Hooray for randomness!"
   ]
  },
  {
   "cell_type": "markdown",
   "metadata": {},
   "source": [
    "# Part 3: Baseline non-experimental \"control\" group\n",
    "\n",
    "Remember, the first baseline non-experimental \"control\" group is just an arbitrary bunch of people who didn't do the NSW program.  There's no attempt to match their characteristics to the characteristics of the treatment group from the RCT. \n",
    "\n",
    "### Part 3a: What is the estimated treatment effect if we use the baseline non-experimental \"control\" group?\n",
    "\n",
    "## <font color=\"red\">TODO:</font>\n",
    "<font color=\"red\">Repeat Part 2a for the first (baseline) non-experimental \"control\" group.  Recall that this are the people whose \"nexp1\" variable is set to \"1\".</font>\n",
    "\n",
    "**TIP:** It's okay to just copy-paste your code from part 2a and change it to look at the first non-experimental \"control\" group, rather than the actual control group."
   ]
  },
  {
   "cell_type": "code",
   "execution_count": 100,
   "metadata": {},
   "outputs": [
    {
     "name": "stdout",
     "output_type": "stream",
     "text": [
      "The observational effect is... -13086.985559160277\n",
      "The ATE on earnings_gain is 3275.6620733763366\n"
     ]
    }
   ],
   "source": [
    "## TODO: Put your code for Part 3a here.  \n",
    "## It should compute the \"average treatment effects\" on both 1978 earnings and on\n",
    "## the gains in earnings from 1975 to 1978, if we used the first (baseline) \n",
    "## non-experimental \"control\" group instead of the actual experimental control group.\n",
    "\n",
    "treat_e78 = [x[\"earnings_1978\"] for x in records if x[\"treat\"]]\n",
    "control1_e78 = [x[\"earnings_1978\"] for x in records if x[\"nexp1\"]]\n",
    "\n",
    "print(\"The observational effect is...\", np.mean(treat_e78) - np.mean(control1_e78))\n",
    "\n",
    "treat_d78 = [x[\"earnings_1978\"]-x[\"earnings_1975\"] for x in records if x[\"treat\"]]\n",
    "control1_d78 = [x[\"earnings_1978\"]-x[\"earnings_1975\"] for x in records if x[\"nexp1\"]]\n",
    "\n",
    "print(\"The ATE on earnings_gain is\", sum(treat_d78)/len(treat_d78) - sum(control1_d78)/len(control1_d78))\n"
   ]
  },
  {
   "cell_type": "markdown",
   "metadata": {},
   "source": [
    "## <font color=\"red\">TODO:</font>\n",
    "<font color=\"red\">What did you get?  Double-click this box to write what you take away from your answer.  If your answer was very different from part 2a, what do you think explains the difference?</font>\n",
    "\n",
    "<font color=\"red\">In addition to a common-sense answer, try also give an answer in terms of the \"selection on levels/selection on treatment\" language that we saw in class</font>\n",
    "\n",
    "**ANSWER:**\n",
    "\n",
    "I got that the effect on 1978 earnings is *negative.*  Maybe this is because folks in the treatment group were selected to be those who'd been having a tough time, and in particular, they probably make less money than those in a completely arbitrary \"control\" group.  \n",
    "\n",
    "But I also got that the effect on earnings gain from 1975 to 1978 was way bigger than in 2a.  This is probably again because folks who ended up in the treatment group were in a bad place at the beginning of the program, so there's lots more room for them to improve their life situation, relative to already-well-off folks on a more stable career path.\n",
    "\n",
    "\n",
    "I'd guess that the driving force for ATE 1 (which is negative, way smaller than it should be) is \"selection on levels:\" folks in the control group are the folks who have a higher *level* of income anyway.  It seems like the driving force for ATE 2 (which is bigger than it should be) is selection on treatment: the folks selected to be in the program are those who would get a lot out of it."
   ]
  },
  {
   "cell_type": "markdown",
   "metadata": {},
   "source": [
    "### Part 3b: Do the treatment and baseline non-experimental \"control\" groups look fairly similar?\n",
    "\n",
    "## <font color=\"red\">TODO:</font>\n",
    "<font color=\"red\">Repeat part 2b with the first (baseline) non-experimental control group.</font>\n",
    "\n",
    "\n",
    "**TIP:** It's okay to just copy-paste your code from part 2b and change it to look at the first (baseline) non-experimental \"control\" group, rather than the actual control group."
   ]
  },
  {
   "cell_type": "code",
   "execution_count": 94,
   "metadata": {},
   "outputs": [
    {
     "name": "stdout",
     "output_type": "stream",
     "text": [
      "Average 1975 earnings:\n",
      "Treatment:\t 3066.0981867003366\n",
      "Fake Control:\t 19428.745819236945\n",
      "Standard deviation of 1975 earnings:\n",
      "Treatment:\t 4866.675169633762\n",
      "Fake Control:\t 13404.184743467591\n"
     ]
    },
    {
     "data": {
      "image/png": "[encoded data removed]",
      "text/plain": [
       "<Figure size 432x288 with 1 Axes>"
      ]
     },
     "metadata": {
      "needs_background": "light"
     },
     "output_type": "display_data"
    },
    {
     "name": "stdout",
     "output_type": "stream",
     "text": [
      "Average years of education:\n",
      "Treatment:\t 10.38047138047138\n",
      "Fake Control:\t 12.116867469879518\n",
      "Standard deviation of years of education:\n",
      "Treatment:\t 1.814649268137686\n",
      "Fake Control:\t 3.0818155321828784\n"
     ]
    },
    {
     "data": {
      "image/png": "[encoded data removed]",
      "text/plain": [
       "<Figure size 432x288 with 1 Axes>"
      ]
     },
     "metadata": {
      "needs_background": "light"
     },
     "output_type": "display_data"
    },
    {
     "name": "stdout",
     "output_type": "stream",
     "text": [
      "Fraction of Black individuals:\n",
      "Treatment:\t 0.8013468013468014\n",
      "Fake Control:\t 0.25060240963855424\n",
      "Average 1975 earnings among Black individuals:\n",
      "Treatment:\t 2785.916292436975\n",
      "Fake Control:\t 14549.29862692308\n",
      "Standard deviation of 1975 earnings among Black individuals:\n",
      "Treatment:\t 4746.435608858392\n",
      "Fake Control:\t 9251.19567075939\n"
     ]
    },
    {
     "data": {
      "image/png": "[encoded data removed]",
      "text/plain": [
       "<Figure size 432x288 with 1 Axes>"
      ]
     },
     "metadata": {
      "needs_background": "light"
     },
     "output_type": "display_data"
    }
   ],
   "source": [
    "## TODO: Put some code here to investigate \n",
    "## whether or not the treatment and the first non-experimental \"control\" groups \n",
    "## look pretty similar.\n",
    "\n",
    "\n",
    "## I'm just going to copy-paste my code from before:\n",
    "# First let's look at 1975 earnings.\n",
    "treat_e75 = [x[\"earnings_1975\"] for x in records if x[\"treat\"]]\n",
    "control_e75 = [x[\"earnings_1975\"] for x in records if x[\"nexp1\"]]\n",
    "\n",
    "print(\"Average 1975 earnings:\")\n",
    "print(\"Treatment:\\t\", np.mean(treat_e75))\n",
    "print(\"Fake Control:\\t\", np.mean(control_e75))\n",
    "\n",
    "print(\"Standard deviation of 1975 earnings:\")\n",
    "print(\"Treatment:\\t\", np.std(treat_e75))\n",
    "print(\"Fake Control:\\t\", np.std(control_e75))\n",
    "\n",
    "plt.hist([treat_e75, control_e75], label=[\"Treatment\", \"Fake Control 1\"], density=True)\n",
    "plt.legend(loc='upper right')\n",
    "plt.show()\n",
    "\n",
    "# Same for education:\n",
    "treat_ed = [x[\"education\"] for x in records if x[\"treat\"]]\n",
    "control_ed = [x[\"education\"] for x in records if x[\"nexp1\"]]\n",
    "\n",
    "print(\"Average years of education:\")\n",
    "print(\"Treatment:\\t\", np.mean(treat_ed))\n",
    "print(\"Fake Control:\\t\", np.mean(control_ed))\n",
    "\n",
    "print(\"Standard deviation of years of education:\")\n",
    "print(\"Treatment:\\t\", np.std(treat_ed))\n",
    "print(\"Fake Control:\\t\", np.std(control_ed))\n",
    "\n",
    "plt.hist([treat_ed, control_ed], label=[\"Treatment\", \"Fake Control 1\"], density=True)\n",
    "plt.legend(loc='upper right')\n",
    "plt.show()\n",
    "\n",
    "# Also at the fraction of Black individuals in treatment and control\n",
    "treat_Black = [x[\"Black\"] for x in records if x[\"treat\"]]\n",
    "control_Black = [x[\"Black\"] for x in records if x[\"nexp1\"]]\n",
    "\n",
    "print(\"Fraction of Black individuals:\")\n",
    "print(\"Treatment:\\t\", np.mean(treat_Black))\n",
    "print(\"Fake Control:\\t\", np.mean(control_Black))\n",
    "\n",
    "# What if we compare earnings just among Black individuals?\n",
    "treat_e75_B = [x[\"earnings_1975\"] for x in records if x[\"treat\"] and x[\"Black\"]]\n",
    "control_e75_B = [x[\"earnings_1975\"] for x in records if x[\"nexp1\"] and x[\"Black\"]]\n",
    "\n",
    "print(\"Average 1975 earnings among Black individuals:\")\n",
    "print(\"Treatment:\\t\", np.mean(treat_e75_B))\n",
    "print(\"Fake Control:\\t\", np.mean(control_e75_B))\n",
    "\n",
    "print(\"Standard deviation of 1975 earnings among Black individuals:\")\n",
    "print(\"Treatment:\\t\", np.std(treat_e75_B))\n",
    "print(\"Fake Control:\\t\", np.std(control_e75_B))\n",
    "\n",
    "plt.hist([treat_e75_B, control_e75_B], label=[\"Treatment\", \"Fake Control 1\"], density=True)\n",
    "plt.legend(loc='upper right')\n",
    "plt.show()"
   ]
  },
  {
   "cell_type": "markdown",
   "metadata": {},
   "source": [
    "## <font color=\"red\">TODO:</font>\n",
    "\n",
    "<font color=\"red\">What is your take-away?  Double-click on this box and write whether or not the first (baseline) non-experimental \"control\" group looks anything like the treatment groups, and whether this explains what you found in part 2a.</font>\n",
    "    \n",
    "**ANSWER**: These look nothing alike.  As predicted above, the \"control\" group made a lot more money in 1975, which probably explains the negative \"treatment effect\" that we found.  Also, the \"control\" group had way more education and was only about 25% Black instead of 80% Black for the treatment group."
   ]
  },
  {
   "cell_type": "markdown",
   "metadata": {},
   "source": [
    "# Part 4: What do you get with the second non-experimental \"control\" group?\n",
    "\n",
    "Remember, for this control group, there was an attempt to match the characteristics that we could observe to the treatment group.\n",
    "\n",
    "### Part 4a: What is the estimated treatment effect if we use the first \"non-experimental\" control group?\n",
    "\n",
    "## <font color=\"red\">TODO:</font>\n",
    "<font color=\"red\">Repeat Part 2a/3a for the second non-experimental \"control\" group.  Recall that this are the people whose \"nexp2\" variable is set to \"1\".</font>\n",
    "\n",
    "**TIP:** It's okay to just copy-paste your code from part 2a/3a and change it to look at the first non-experimental \"control\" group, rather than the actual control group."
   ]
  },
  {
   "cell_type": "code",
   "execution_count": 110,
   "metadata": {},
   "outputs": [
    {
     "name": "stdout",
     "output_type": "stream",
     "text": [
      "The observational effect on 1978 earnings is... 3365.656142102273\n",
      "The observational effect on earnings_gain is 5866.431844464436\n",
      "\n",
      "\n",
      "FWIW (will be relevant later), the average 1978 earnings of both groups are:\n",
      "Treatment: 5976.352032727273\n",
      "2nd fake 'control group': 2610.6958906249997\n"
     ]
    }
   ],
   "source": [
    "## TODO: Put your code for Part 4a here.  \n",
    "## It should compute the \"average treatment effects\" on both 1978 earnings and on\n",
    "## the gains in earnings from 1975 to 1978, if we used the second\n",
    "## non-experimental control group instead of the actual (experimental) control group.\n",
    "\n",
    "treat_e78 = [x[\"earnings_1978\"] for x in records if x[\"treat\"]]\n",
    "control2_e78 = [x[\"earnings_1978\"] for x in records if x[\"nexp2\"]]\n",
    "\n",
    "print(\"The observational effect on 1978 earnings is\", np.mean(treat_e78) - np.mean(control2_e78))\n",
    "\n",
    "treat_d78 = [x[\"earnings_1978\"]-x[\"earnings_1975\"] for x in records if x[\"treat\"]]\n",
    "control2_d78 = [x[\"earnings_1978\"]-x[\"earnings_1975\"] for x in records if x[\"nexp2\"]]\n",
    "\n",
    "print(\"The observational effect on earnings_gain is\", np.mean(treat_d78) - np.mean(control2_d78))\n",
    "\n",
    "print(\"\\n\\nFWIW (will be relevant later), the average 1978 earnings of both groups are:\")\n",
    "print(\"Treatment:\", np.mean(treat_e78))\n",
    "print(\"2nd fake 'control group':\", np.mean(control2_e78))\n"
   ]
  },
  {
   "cell_type": "markdown",
   "metadata": {},
   "source": [
    "## <font color=\"red\">TODO:</font>\n",
    "<font color=\"red\">What did you get?  Double-click this box and write, at a high level, how your results differ from parts 2a and 3a. (You'll get a chance to try to explain this after you do part 4b, it might be a bit hard to think about now since you haven't taken a look at the second non-experimental \"control\" group yet.)</font>\n",
    "\n",
    "\n",
    "**ANSWER:**  I got that both of these effects are much larger than I estimated with the RCT, although at least they are going in the same direction.  I guess that even this control group isn't perfect..."
   ]
  },
  {
   "cell_type": "markdown",
   "metadata": {},
   "source": [
    "### Part 4b: Do the treatment and non-experimental \"control\" groups look fairly similar?\n",
    "\n",
    "## <font color=\"red\">TODO:</font>\n",
    "<font color=\"red\">Repeat part 2b/3b with the *second* non-experimental control group.  Which characteristics are similar?  Which are different?</font>\n",
    "\n",
    "\n",
    "**TIP:** It's okay to just copy-paste your code from parts 2b/3b and change it to look at the *second* non-experimental \"control\" group, rather than the actual control group."
   ]
  },
  {
   "cell_type": "code",
   "execution_count": 102,
   "metadata": {},
   "outputs": [
    {
     "name": "stdout",
     "output_type": "stream",
     "text": [
      "Average 1975 earnings:\n",
      "Treatment:\t 3066.0981867003366\n",
      "Fake Control:\t 5566.8738890625\n",
      "Standard deviation of 1975 earnings:\n",
      "Treatment:\t 4866.675169633762\n",
      "Fake Control:\t 7226.7605135999975\n"
     ]
    },
    {
     "data": {
      "image/png": "[encoded data removed]",
      "text/plain": [
       "<Figure size 432x288 with 1 Axes>"
      ]
     },
     "metadata": {
      "needs_background": "light"
     },
     "output_type": "display_data"
    },
    {
     "name": "stdout",
     "output_type": "stream",
     "text": [
      "Average years of education:\n",
      "Treatment:\t 10.38047138047138\n",
      "Fake Control:\t 10.3046875\n",
      "Standard deviation of years of education:\n",
      "Treatment:\t 1.814649268137686\n",
      "Fake Control:\t 3.1636573814722335\n"
     ]
    },
    {
     "data": {
      "image/png": "[encoded data removed]",
      "text/plain": [
       "<Figure size 432x288 with 1 Axes>"
      ]
     },
     "metadata": {
      "needs_background": "light"
     },
     "output_type": "display_data"
    },
    {
     "name": "stdout",
     "output_type": "stream",
     "text": [
      "Fraction of Black individuals:\n",
      "Treatment:\t 0.8013468013468014\n",
      "Fake Control:\t 0.453125\n",
      "Average 1975 earnings among Black individuals:\n",
      "Treatment:\t 2785.916292436975\n",
      "Fake Control:\t 3340.4148810344823\n",
      "Standard deviation of 1975 earnings among Black individuals:\n",
      "Treatment:\t 4746.435608858392\n",
      "Fake Control:\t 4837.293746360415\n"
     ]
    },
    {
     "data": {
      "image/png": "[encoded data removed]",
      "text/plain": [
       "<Figure size 432x288 with 1 Axes>"
      ]
     },
     "metadata": {
      "needs_background": "light"
     },
     "output_type": "display_data"
    }
   ],
   "source": [
    "## TODO: Put some code here to investigate \n",
    "## whether or not the treatment and the second non-experimental \"control\" groups \n",
    "## look pretty similar.\n",
    "\n",
    "\n",
    "## I'm just going to copy-paste my code from before:\n",
    "# First let's look at 1975 earnings.\n",
    "treat_e75 = [x[\"earnings_1975\"] for x in records if x[\"treat\"]]\n",
    "control_e75 = [x[\"earnings_1975\"] for x in records if x[\"nexp2\"]]\n",
    "\n",
    "print(\"Average 1975 earnings:\")\n",
    "print(\"Treatment:\\t\", np.mean(treat_e75))\n",
    "print(\"Fake Control:\\t\", np.mean(control_e75))\n",
    "\n",
    "print(\"Standard deviation of 1975 earnings:\")\n",
    "print(\"Treatment:\\t\", np.std(treat_e75))\n",
    "print(\"Fake Control:\\t\", np.std(control_e75))\n",
    "\n",
    "plt.hist([treat_e75, control_e75], label=[\"Treatment\", \"Fake Control 2\"], density=True)\n",
    "plt.legend(loc='upper right')\n",
    "plt.show()\n",
    "\n",
    "# Same for education:\n",
    "treat_ed = [x[\"education\"] for x in records if x[\"treat\"]]\n",
    "control_ed = [x[\"education\"] for x in records if x[\"nexp2\"]]\n",
    "\n",
    "print(\"Average years of education:\")\n",
    "print(\"Treatment:\\t\", np.mean(treat_ed))\n",
    "print(\"Fake Control:\\t\", np.mean(control_ed))\n",
    "\n",
    "print(\"Standard deviation of years of education:\")\n",
    "print(\"Treatment:\\t\", np.std(treat_ed))\n",
    "print(\"Fake Control:\\t\", np.std(control_ed))\n",
    "\n",
    "plt.hist([treat_ed, control_ed], label=[\"Treatment\", \"Fake Control 2\"], density=True)\n",
    "plt.legend(loc='upper right')\n",
    "plt.show()\n",
    "\n",
    "# Also at the fraction of Black individuals in treatment and control\n",
    "treat_Black = [x[\"Black\"] for x in records if x[\"treat\"]]\n",
    "control_Black = [x[\"Black\"] for x in records if x[\"nexp2\"]]\n",
    "\n",
    "print(\"Fraction of Black individuals:\")\n",
    "print(\"Treatment:\\t\", np.mean(treat_Black))\n",
    "print(\"Fake Control:\\t\", np.mean(control_Black))\n",
    "\n",
    "# What if we compare earnings just among Black individuals?\n",
    "treat_e75_B = [x[\"earnings_1975\"] for x in records if x[\"treat\"] and x[\"Black\"]]\n",
    "control_e75_B = [x[\"earnings_1975\"] for x in records if x[\"nexp2\"] and x[\"Black\"]]\n",
    "\n",
    "print(\"Average 1975 earnings among Black individuals:\")\n",
    "print(\"Treatment:\\t\", np.mean(treat_e75_B))\n",
    "print(\"Fake Control:\\t\", np.mean(control_e75_B))\n",
    "\n",
    "print(\"Standard deviation of 1975 earnings among Black individuals:\")\n",
    "print(\"Treatment:\\t\", np.std(treat_e75_B))\n",
    "print(\"Fake Control:\\t\", np.std(control_e75_B))\n",
    "\n",
    "plt.hist([treat_e75_B, control_e75_B], label=[\"Treatment\", \"Fake Control 2\"], density=True)\n",
    "plt.legend(loc='upper right')\n",
    "plt.show()"
   ]
  },
  {
   "cell_type": "markdown",
   "metadata": {},
   "source": [
    "## <font color=\"red\">TODO:</font>\n",
    "\n",
    "<font color=\"red\">What is your take-away?  Double-click on this box and write whether or not the second non-experimental \"control\" group looks like the treatment group.  Does this explain what you found in 4a?  (Note: there may not be a good/easy explanation here, but think about it!)</font>\n",
    "\n",
    "**ANSWER:** These are much closer, but still not that close.  For example:\n",
    "* The 1975 earnings are kind of close, but folks in the control group still make more, and it looks like there are a lot more folks in the treatment group who make 0 income.  \n",
    "* The average on years of education is a good match, but if we look at the histogram, it looks like there are way more folks in the treatment group with 10 years of education (aka, dropped out of HS at 16), while the fake control group seems to have a bunch of people with <4 years of education (which may be a data error?).  \n",
    "* The control group is about 45% Black, while the treatment group is about 80% Black.\n",
    "\n",
    "So what explains the much larger effects? One thing to note is that while the treated folks made on average more in 1978 than in 1975, the fake control group on average earned **less** in 1978 than in 1975.  So maybe there was something about how the fake control group was constructed so that lots of these people ended up getting laid off or something like that.  If this is what happens, that would explain why both of the \"effects\" that we found were bigger than with the RCT.  The effect on 1978 earnings is larger since folks in the fake control group on average made a lot less in 1978.  The effect on the difference is even larger, since folks in the fake control group on average *lost* earnings over that time period, while folks in the treatment group gained.  But why would it be that this fake control group earned on average **less** in 1978 than in 1975?\n",
    "\n",
    "One possible explanation is the following.  In the treatment group (and in the \"real\" RCT control group), we have lots of folks who make 0 dollars in 1975.  (More than in Fake Control 2, as we saw above).  Both the RCT control group and fake \"control\" group 2 have folks on the lower end of the income distribution, but there are more people in the RCT control group who literally cannot make any less money, since they are already making 0.  On the other hand, there are people in the fake \"control\" group 2 who are not well off, and also in precarious situations, but have something to lose.  So on average, they end up losing more than the \"real\" control group. \n",
    "\n",
    "However, that explanation is pretty weak -- there aren't *that* many more people making 0 dollars in the treatment group.   Indeed, part of the point of this assignment is that **we don't really know why this control group gives such bad predictions!**. Sure, there are lots of things that are different, but what's important?  If we understood that, perhaps we'd understand how to make a better control group, and that seems challenging."
   ]
  },
  {
   "cell_type": "markdown",
   "metadata": {},
   "source": [
    "# Part 5: OPTIONAL\n",
    "You probably got that the second non-experimental \"control\" group from Part 4 looked much more like the treatment group than the one in Part 3, but is still not perfect.  Can you do better?  That is, by looking at the folks with \"nexp1\" set to \"1\", you get a lot of people.  Can you find a subset of those people that makes for a better control group?  Or can you reweight the folks in the \"nexp2\" group somehow?"
   ]
  },
  {
   "cell_type": "code",
   "execution_count": null,
   "metadata": {},
   "outputs": [],
   "source": [
    "## TODO (Optional)  Write some code to try to make a better control group.  \n",
    "## Can you get closer to replicating the effects of the RCT?"
   ]
  },
  {
   "cell_type": "markdown",
   "metadata": {},
   "source": [
    "TODO (OPTIONAL): Double-click this box, and explain in words what you did and what your findings were.\n",
    "\n",
    "*(We're going to pass on this one -- see the references above for some attempts from the literature, but overall this seems extremely challenging).*"
   ]
  },
  {
   "cell_type": "markdown",
   "metadata": {},
   "source": [
    "# Part 6: Wrap-up and take-aways\n",
    "\n",
    "The moral of this assignment (and the papers that it is based on) is that it is **really hard** to come up with good control groups from observational data.  There are two main challenges:\n",
    "1. It is hard even to come up with a \"control group\" where we approximately match on all of the observable characteristics of the \"treatment group.\" \n",
    "2. Even if we could approximately match all of those characteristics, our predictions may still be way off, for reasons we don't fully understand.  \n",
    "\n",
    "There's nothing to write for this part, just: **<font color=\"red\">TODO: take a moment to reflect on the power of RCTs!</font>**"
   ]
  }
 ],
 "metadata": {
  "kernelspec": {
   "display_name": "Python 3 (ipykernel)",
   "language": "python",
   "name": "python3"
  },
  "language_info": {
   "codemirror_mode": {
    "name": "ipython",
    "version": 3
   },
   "file_extension": ".py",
   "mimetype": "text/x-python",
   "name": "python",
   "nbconvert_exporter": "python",
   "pygments_lexer": "ipython3",
   "version": "3.8.0"
  }
 },
 "nbformat": 4,
 "nbformat_minor": 4
}
